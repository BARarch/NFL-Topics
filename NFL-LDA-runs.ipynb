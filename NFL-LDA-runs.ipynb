{
 "cells": [
  {
   "cell_type": "markdown",
   "metadata": {},
   "source": [
    "# Query NFL Team Article Database and Run Queries"
   ]
  },
  {
   "cell_type": "code",
   "execution_count": 1,
   "metadata": {
    "collapsed": true
   },
   "outputs": [],
   "source": [
    "# Packages for NFL Database\n",
    "\n",
    "import psycopg2\n",
    "import config as config\n",
    "import teamQuery as tq"
   ]
  },
  {
   "cell_type": "code",
   "execution_count": 6,
   "metadata": {},
   "outputs": [
    {
     "data": {
      "text/plain": [
       "286"
      ]
     },
     "execution_count": 6,
     "metadata": {},
     "output_type": "execute_result"
    }
   ],
   "source": [
    "len(tq.teamQueryCounts(\"Falcons\"))"
   ]
  },
  {
   "cell_type": "code",
   "execution_count": 8,
   "metadata": {
    "collapsed": true
   },
   "outputs": [],
   "source": [
    "def quick_team_corpus(team):\n",
    "    return [text[3] for text in tq.teamQueryTexts(team)]"
   ]
  },
  {
   "cell_type": "code",
   "execution_count": 9,
   "metadata": {
    "collapsed": true
   },
   "outputs": [],
   "source": [
    "red = quick_team_corpus(\"Redskins\")"
   ]
  },
  {
   "cell_type": "code",
   "execution_count": 10,
   "metadata": {},
   "outputs": [
    {
     "data": {
      "text/plain": [
       "411"
      ]
     },
     "execution_count": 10,
     "metadata": {},
     "output_type": "execute_result"
    }
   ],
   "source": [
    "len(red)"
   ]
  },
  {
   "cell_type": "code",
   "execution_count": 14,
   "metadata": {},
   "outputs": [],
   "source": [
    "# Packages for LDA\n",
    "\n",
    "from sklearn.feature_extraction.text import CountVectorizer, TfidfVectorizer\n",
    "from sklearn.decomposition import NMF, LatentDirichletAllocation\n",
    "from time import time\n",
    "import nltk\n",
    "from nltk.stem import SnowballStemmer, WordNetLemmatizer\n"
   ]
  },
  {
   "cell_type": "code",
   "execution_count": 57,
   "metadata": {},
   "outputs": [
    {
     "name": "stdout",
     "output_type": "stream",
     "text": [
      "[nltk_data] Downloading package wordnet to\n",
      "[nltk_data]     C:\\Users\\Anthony\\AppData\\Roaming\\nltk_data...\n",
      "[nltk_data]   Package wordnet is already up-to-date!\n"
     ]
    }
   ],
   "source": [
    "# Initializations\n",
    "\n",
    "nltk.download('wordnet')\n",
    "\n",
    "n_features = 1000\n",
    "n_topics = 10\n",
    "n_top_words = 5\n",
    "\n",
    "base_tokenizer = CountVectorizer().build_tokenizer()\n",
    "stemmer = SnowballStemmer('english')\n",
    "lemmatizer = WordNetLemmatizer()\n",
    "\n",
    "tokenize = None\n",
    "#tokenize = lambda text: [stemmer.stem(item) for item in base_tokenizer(text)]\n",
    "#tokenize = lambda text: [lemmatizer.lemmatize(item) for item in base_tokenizer(text)]\n"
   ]
  },
  {
   "cell_type": "code",
   "execution_count": 37,
   "metadata": {},
   "outputs": [],
   "source": [
    "# The print top words function\n",
    "def print_top_words(model, feature_names, n_top_words):\n",
    "    for topic_idx, topic in enumerate(model.components_):\n",
    "        message = \"Topic #%d: \" % topic_idx\n",
    "        message += \", \".join([feature_names[i] for i in topic.argsort()[:-n_top_words - 1:-1]])\n",
    "        print(message+\"\\n\")\n",
    "    print()\n",
    "        "
   ]
  },
  {
   "cell_type": "code",
   "execution_count": 50,
   "metadata": {
    "collapsed": true
   },
   "outputs": [],
   "source": [
    "# Get the Samples for a team\n",
    "team = \"Ravens\"\n",
    "samples = quick_team_corpus(team)"
   ]
  },
  {
   "cell_type": "code",
   "execution_count": 51,
   "metadata": {},
   "outputs": [
    {
     "name": "stdout",
     "output_type": "stream",
     "text": [
      "Extracting tf-idf features for NMF...\n",
      "done in 3.278s.\n"
     ]
    }
   ],
   "source": [
    "# TF-IDF Vectorization With Prepocessing\n",
    "print(\"Extracting tf-idf features for NMF...\")\n",
    "tfidf_vectorizer = TfidfVectorizer(max_df=.95,\n",
    "                                   min_df=2,\n",
    "                                   max_features=n_features,\n",
    "                                   ngram_range=(1,3),\n",
    "                                   tokenizer=tokenize,\n",
    "                                   stop_words='english')\n",
    "\n",
    "t0 = time()\n",
    "tfidf = tfidf_vectorizer.fit_transform(samples)\n",
    "print(\"done in %0.3fs.\" % (time() - t0))"
   ]
  },
  {
   "cell_type": "code",
   "execution_count": 52,
   "metadata": {},
   "outputs": [
    {
     "name": "stdout",
     "output_type": "stream",
     "text": [
      "Fitting the NMF model with tf-idf freatures,  n_samples=315 and n_features=1000...\n",
      "done in 0.173s.\n"
     ]
    }
   ],
   "source": [
    "# NMF Model Fit\n",
    "print(\"Fitting the NMF model with tf-idf freatures,  \"\n",
    "      'n_samples=%d and n_features=%d...'\n",
    "      % (len(samples), n_features))\n",
    "\n",
    "t0 = time()\n",
    "\n",
    "nmf = NMF(n_components=n_topics,\n",
    "          random_state=1,\n",
    "          alpha=.1,\n",
    "          l1_ratio=.5)\n",
    "\n",
    "nmfResult = nmf.fit(tfidf)\n",
    "print(\"done in %0.3fs.\" % (time() - t0))\n",
    "\n",
    "tfidf_feature_names = tfidf_vectorizer.get_feature_names()"
   ]
  },
  {
   "cell_type": "code",
   "execution_count": 53,
   "metadata": {},
   "outputs": [
    {
     "name": "stdout",
     "output_type": "stream",
     "text": [
      "Topics in NMF model:\n",
      "Topic #0: game, wa, just, defense, said\n",
      "\n",
      "Topic #1: williams, injury, practice, week, defensive\n",
      "\n",
      "Topic #2: preseason, woodrum, ricard, roster, bradley\n",
      "\n",
      "Topic #3: langford, practice squad, squad, woodhead, practice\n",
      "\n",
      "Topic #4: london, fan, trip, nfl, team\n",
      "\n",
      "Topic #5: purple, pm, fan, mt, mt bank\n",
      "\n",
      "Topic #6: wallace, flacco, perriman, maclin, receiver\n",
      "\n",
      "Topic #7: bergstrom, yanda, guard, offensive, traded\n",
      "\n",
      "Topic #8: collins, carry, school, yard, carl\n",
      "\n",
      "Topic #9: carr, raider, smith, humphrey, manuel\n",
      "\n",
      "\n"
     ]
    }
   ],
   "source": [
    "# Show the Topics\n",
    "print(\"Topics in NMF model:\")\n",
    "print_top_words(nmf, tfidf_feature_names, n_top_words)"
   ]
  },
  {
   "cell_type": "code",
   "execution_count": 58,
   "metadata": {},
   "outputs": [
    {
     "name": "stdout",
     "output_type": "stream",
     "text": [
      "Extracting tf features for LDA...\n",
      "done in 1.580s.\n"
     ]
    }
   ],
   "source": [
    "# TF Vectorization - raw term counts with Preprocessing\n",
    "print(\"Extracting tf features for LDA...\")\n",
    "tf_vectorizer = CountVectorizer(max_df=.95,\n",
    "                                min_df=2,\n",
    "                                ngram_range=(1,3),\n",
    "                                max_features=n_features,\n",
    "                                tokenizer=tokenize,\n",
    "                                stop_words='english')\n",
    "\n",
    "t0 = time()\n",
    "tf = tf_vectorizer.fit_transform(samples)\n",
    "print('done in %0.3fs.' % (time() - t0))"
   ]
  },
  {
   "cell_type": "code",
   "execution_count": 59,
   "metadata": {},
   "outputs": [
    {
     "name": "stdout",
     "output_type": "stream",
     "text": [
      "Fitting the LDA model  with tf freatures,  n_samples=315 and n_features=1000...\n",
      "done in 2.587s.\n"
     ]
    }
   ],
   "source": [
    "print(\"Fitting the LDA model  with tf freatures,  \"\n",
    "      'n_samples=%d and n_features=%d...'\n",
    "      % (len(samples), n_features))\n",
    "\n",
    "t0 = time()\n",
    "\n",
    "lda = LatentDirichletAllocation(n_components=n_topics,\n",
    "                                max_iter=5,\n",
    "                                learning_method='online',\n",
    "                                learning_offset=50.,\n",
    "                                random_state=0,\n",
    "                                )\n",
    "\n",
    "lda.fit(tf)\n",
    "print(\"done in %0.3fs.\" % (time() - t0))\n",
    "\n",
    "tf_feature_names = tf_vectorizer.get_feature_names()"
   ]
  },
  {
   "cell_type": "code",
   "execution_count": 60,
   "metadata": {},
   "outputs": [
    {
     "name": "stdout",
     "output_type": "stream",
     "text": [
      "Topics in LDA model:\n",
      "Topic #0: game, like, just, said, think\n",
      "\n",
      "Topic #1: injury, flacco, baltimore, team, coach\n",
      "\n",
      "Topic #2: injury, practice, williams, week, game\n",
      "\n",
      "Topic #3: hurst, guard, tackle, left, said\n",
      "\n",
      "Topic #4: baltimore, school, community, game, city\n",
      "\n",
      "Topic #5: purple, fans, cancer, stadium, game\n",
      "\n",
      "Topic #6: going, play, said, good, just\n",
      "\n",
      "Topic #7: preseason, woodrum, team, game, nfl\n",
      "\n",
      "Topic #8: foster, preseason, said, game, football\n",
      "\n",
      "Topic #9: game, just, said, going, play\n",
      "\n",
      "\n"
     ]
    }
   ],
   "source": [
    "print(\"Topics in LDA model:\")\n",
    "print_top_words(lda, tf_feature_names, n_top_words)"
   ]
  },
  {
   "cell_type": "code",
   "execution_count": null,
   "metadata": {
    "collapsed": true
   },
   "outputs": [],
   "source": []
  },
  {
   "cell_type": "code",
   "execution_count": null,
   "metadata": {
    "collapsed": true
   },
   "outputs": [],
   "source": []
  }
 ],
 "metadata": {
  "kernelspec": {
   "display_name": "NFL-Topics",
   "language": "python",
   "name": "nfl-topics"
  },
  "language_info": {
   "codemirror_mode": {
    "name": "ipython",
    "version": 3
   },
   "file_extension": ".py",
   "mimetype": "text/x-python",
   "name": "python",
   "nbconvert_exporter": "python",
   "pygments_lexer": "ipython3",
   "version": "3.6.1"
  }
 },
 "nbformat": 4,
 "nbformat_minor": 2
}
