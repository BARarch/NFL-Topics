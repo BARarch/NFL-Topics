{
 "cells": [
  {
   "cell_type": "markdown",
   "metadata": {},
   "source": [
    "# Query NFL Team Article Database and Run Queries"
   ]
  },
  {
   "cell_type": "code",
   "execution_count": 1,
   "metadata": {
    "collapsed": true
   },
   "outputs": [],
   "source": [
    "# Packages for NFL Database\n",
    "\n",
    "import psycopg2\n",
    "import config as config\n",
    "import teamQuery as tq"
   ]
  },
  {
   "cell_type": "code",
   "execution_count": 2,
   "metadata": {},
   "outputs": [
    {
     "data": {
      "text/plain": [
       "286"
      ]
     },
     "execution_count": 2,
     "metadata": {},
     "output_type": "execute_result"
    }
   ],
   "source": [
    "len(tq.teamQueryCounts(\"Falcons\"))"
   ]
  },
  {
   "cell_type": "code",
   "execution_count": 3,
   "metadata": {
    "collapsed": true
   },
   "outputs": [],
   "source": [
    "def quick_team_corpus(team):\n",
    "    return [text[3] for text in tq.teamQueryTexts(team)]"
   ]
  },
  {
   "cell_type": "code",
   "execution_count": 4,
   "metadata": {
    "collapsed": true
   },
   "outputs": [],
   "source": [
    "red = quick_team_corpus(\"Redskins\")"
   ]
  },
  {
   "cell_type": "code",
   "execution_count": 5,
   "metadata": {},
   "outputs": [
    {
     "data": {
      "text/plain": [
       "411"
      ]
     },
     "execution_count": 5,
     "metadata": {},
     "output_type": "execute_result"
    }
   ],
   "source": [
    "len(red)"
   ]
  },
  {
   "cell_type": "code",
   "execution_count": 6,
   "metadata": {
    "collapsed": true
   },
   "outputs": [],
   "source": [
    "# Packages for LDA\n",
    "\n",
    "from sklearn.feature_extraction.text import CountVectorizer, TfidfVectorizer\n",
    "from sklearn.decomposition import NMF, LatentDirichletAllocation\n",
    "from time import time\n",
    "import nltk\n",
    "from nltk.stem import SnowballStemmer, WordNetLemmatizer\n"
   ]
  },
  {
   "cell_type": "code",
   "execution_count": 7,
   "metadata": {},
   "outputs": [
    {
     "name": "stdout",
     "output_type": "stream",
     "text": [
      "[nltk_data] Downloading package wordnet to\n",
      "[nltk_data]     C:\\Users\\Anthony\\AppData\\Roaming\\nltk_data...\n",
      "[nltk_data]   Package wordnet is already up-to-date!\n"
     ]
    }
   ],
   "source": [
    "# Initializations\n",
    "\n",
    "nltk.download('wordnet')\n",
    "\n",
    "n_features = 1000\n",
    "n_topics = 10\n",
    "n_top_words = 5\n",
    "\n",
    "base_tokenizer = CountVectorizer().build_tokenizer()\n",
    "stemmer = SnowballStemmer('english')\n",
    "lemmatizer = WordNetLemmatizer()\n",
    "\n",
    "tokenize = None\n",
    "#tokenize = lambda text: [stemmer.stem(item) for item in base_tokenizer(text)]\n",
    "#tokenize = lambda text: [lemmatizer.lemmatize(item) for item in base_tokenizer(text)]\n"
   ]
  },
  {
   "cell_type": "code",
   "execution_count": 8,
   "metadata": {
    "collapsed": true
   },
   "outputs": [],
   "source": [
    "# The print top words function\n",
    "def print_top_words(model, feature_names, n_top_words):\n",
    "    for topic_idx, topic in enumerate(model.components_):\n",
    "        message = \"Topic #%d: \" % topic_idx\n",
    "        message += \", \".join([feature_names[i] for i in topic.argsort()[:-n_top_words - 1:-1]])\n",
    "        print(message+\"\\n\")\n",
    "    print()\n",
    "        "
   ]
  },
  {
   "cell_type": "code",
   "execution_count": 9,
   "metadata": {
    "collapsed": true
   },
   "outputs": [],
   "source": [
    "# Get the Samples for a team\n",
    "team = \"Ravens\"\n",
    "samples = quick_team_corpus(team)"
   ]
  },
  {
   "cell_type": "code",
   "execution_count": 10,
   "metadata": {},
   "outputs": [
    {
     "name": "stdout",
     "output_type": "stream",
     "text": [
      "Extracting tf-idf features for NMF...\n",
      "done in 1.636s.\n"
     ]
    }
   ],
   "source": [
    "# TF-IDF Vectorization With Prepocessing\n",
    "print(\"Extracting tf-idf features for NMF...\")\n",
    "tfidf_vectorizer = TfidfVectorizer(max_df=.95,\n",
    "                                   min_df=2,\n",
    "                                   max_features=n_features,\n",
    "                                   ngram_range=(1,3),\n",
    "                                   tokenizer=tokenize,\n",
    "                                   stop_words='english')\n",
    "\n",
    "t0 = time()\n",
    "tfidf = tfidf_vectorizer.fit_transform(samples)\n",
    "print(\"done in %0.3fs.\" % (time() - t0))"
   ]
  },
  {
   "cell_type": "code",
   "execution_count": 11,
   "metadata": {},
   "outputs": [
    {
     "name": "stdout",
     "output_type": "stream",
     "text": [
      "Fitting the NMF model with tf-idf freatures,  n_samples=315 and n_features=1000...\n",
      "done in 0.526s.\n"
     ]
    }
   ],
   "source": [
    "# NMF Model Fit\n",
    "print(\"Fitting the NMF model with tf-idf freatures,  \"\n",
    "      'n_samples=%d and n_features=%d...'\n",
    "      % (len(samples), n_features))\n",
    "\n",
    "t0 = time()\n",
    "\n",
    "nmf = NMF(n_components=n_topics,\n",
    "          random_state=1,\n",
    "          alpha=.1,\n",
    "          l1_ratio=.5)\n",
    "\n",
    "nmfResult = nmf.fit(tfidf)\n",
    "print(\"done in %0.3fs.\" % (time() - t0))\n",
    "\n",
    "tfidf_feature_names = tfidf_vectorizer.get_feature_names()"
   ]
  },
  {
   "cell_type": "code",
   "execution_count": 12,
   "metadata": {},
   "outputs": [
    {
     "name": "stdout",
     "output_type": "stream",
     "text": [
      "Topics in NMF model:\n",
      "Topic #0: game, just, defense, going, good\n",
      "\n",
      "Topic #1: williams, practice, injury, defensive, smith\n",
      "\n",
      "Topic #2: preseason, woodrum, ricard, roster, bradley\n",
      "\n",
      "Topic #3: langford, practice squad, squad, woodhead, practice\n",
      "\n",
      "Topic #4: london, fans, fan, nfl, trip\n",
      "\n",
      "Topic #5: purple, pm, fans, mt, mt bank\n",
      "\n",
      "Topic #6: wallace, perriman, maclin, yards, wide\n",
      "\n",
      "Topic #7: bergstrom, yanda, guard, offensive, traded\n",
      "\n",
      "Topic #8: collins, school, yards, carries, carl\n",
      "\n",
      "Topic #9: flacco, flacco said, said, joe, offense\n",
      "\n",
      "\n"
     ]
    }
   ],
   "source": [
    "# Show the Topics\n",
    "print(\"Topics in NMF model:\")\n",
    "print_top_words(nmf, tfidf_feature_names, n_top_words)"
   ]
  },
  {
   "cell_type": "code",
   "execution_count": 13,
   "metadata": {},
   "outputs": [
    {
     "name": "stdout",
     "output_type": "stream",
     "text": [
      "Extracting tf features for LDA...\n",
      "done in 1.632s.\n"
     ]
    }
   ],
   "source": [
    "# TF Vectorization - raw term counts with Preprocessing\n",
    "print(\"Extracting tf features for LDA...\")\n",
    "tf_vectorizer = CountVectorizer(max_df=.95,\n",
    "                                min_df=2,\n",
    "                                ngram_range=(1,3),\n",
    "                                max_features=n_features,\n",
    "                                tokenizer=tokenize,\n",
    "                                stop_words='english')\n",
    "\n",
    "t0 = time()\n",
    "tf = tf_vectorizer.fit_transform(samples)\n",
    "print('done in %0.3fs.' % (time() - t0))"
   ]
  },
  {
   "cell_type": "code",
   "execution_count": 14,
   "metadata": {},
   "outputs": [
    {
     "name": "stdout",
     "output_type": "stream",
     "text": [
      "Fitting the LDA model  with tf freatures,  n_samples=315 and n_features=1000...\n",
      "done in 2.723s.\n"
     ]
    }
   ],
   "source": [
    "print(\"Fitting the LDA model  with tf freatures,  \"\n",
    "      'n_samples=%d and n_features=%d...'\n",
    "      % (len(samples), n_features))\n",
    "\n",
    "t0 = time()\n",
    "\n",
    "lda = LatentDirichletAllocation(n_components=n_topics,\n",
    "                                max_iter=5,\n",
    "                                learning_method='online',\n",
    "                                learning_offset=50.,\n",
    "                                random_state=0,\n",
    "                                )\n",
    "\n",
    "lda.fit(tf)\n",
    "print(\"done in %0.3fs.\" % (time() - t0))\n",
    "\n",
    "tf_feature_names = tf_vectorizer.get_feature_names()"
   ]
  },
  {
   "cell_type": "code",
   "execution_count": 15,
   "metadata": {},
   "outputs": [
    {
     "name": "stdout",
     "output_type": "stream",
     "text": [
      "Topics in LDA model:\n",
      "Topic #0: game, like, just, said, think\n",
      "\n",
      "Topic #1: injury, flacco, baltimore, team, coach\n",
      "\n",
      "Topic #2: injury, practice, williams, week, game\n",
      "\n",
      "Topic #3: hurst, guard, tackle, left, said\n",
      "\n",
      "Topic #4: baltimore, school, community, game, city\n",
      "\n",
      "Topic #5: purple, fans, cancer, stadium, game\n",
      "\n",
      "Topic #6: going, play, said, good, just\n",
      "\n",
      "Topic #7: preseason, woodrum, team, game, nfl\n",
      "\n",
      "Topic #8: foster, preseason, said, game, football\n",
      "\n",
      "Topic #9: game, just, said, going, play\n",
      "\n",
      "\n"
     ]
    }
   ],
   "source": [
    "print(\"Topics in LDA model:\")\n",
    "print_top_words(lda, tf_feature_names, n_top_words)"
   ]
  },
  {
   "cell_type": "markdown",
   "metadata": {
    "collapsed": true
   },
   "source": [
    "# Visualization of Topic Models"
   ]
  },
  {
   "cell_type": "code",
   "execution_count": 16,
   "metadata": {},
   "outputs": [
    {
     "data": {
      "text/plain": [
       "LatentDirichletAllocation(batch_size=128, doc_topic_prior=None,\n",
       "             evaluate_every=-1, learning_decay=0.7,\n",
       "             learning_method='online', learning_offset=50.0,\n",
       "             max_doc_update_iter=100, max_iter=5, mean_change_tol=0.001,\n",
       "             n_components=10, n_jobs=1, n_topics=None, perp_tol=0.1,\n",
       "             random_state=0, topic_word_prior=None,\n",
       "             total_samples=1000000.0, verbose=0)"
      ]
     },
     "execution_count": 16,
     "metadata": {},
     "output_type": "execute_result"
    }
   ],
   "source": [
    "lda"
   ]
  },
  {
   "cell_type": "code",
   "execution_count": 17,
   "metadata": {},
   "outputs": [
    {
     "data": {
      "text/plain": [
       "NMF(alpha=0.1, beta_loss='frobenius', init=None, l1_ratio=0.5, max_iter=200,\n",
       "  n_components=10, random_state=1, shuffle=False, solver='cd', tol=0.0001,\n",
       "  verbose=0)"
      ]
     },
     "execution_count": 17,
     "metadata": {},
     "output_type": "execute_result"
    }
   ],
   "source": [
    "nmf"
   ]
  },
  {
   "cell_type": "code",
   "execution_count": 18,
   "metadata": {
    "collapsed": true
   },
   "outputs": [],
   "source": [
    "import pyLDAvis.sklearn"
   ]
  },
  {
   "cell_type": "code",
   "execution_count": 19,
   "metadata": {
    "collapsed": true
   },
   "outputs": [],
   "source": [
    "pyLDAvis.enable_notebook()"
   ]
  },
  {
   "cell_type": "code",
   "execution_count": null,
   "metadata": {
    "collapsed": true
   },
   "outputs": [],
   "source": []
  },
  {
   "cell_type": "code",
   "execution_count": 20,
   "metadata": {},
   "outputs": [
    {
     "name": "stderr",
     "output_type": "stream",
     "text": [
      "c:\\users\\anthony\\scripts\\nfl-topics\\venv\\lib\\site-packages\\pyLDAvis\\_prepare.py:387: DeprecationWarning: \n",
      ".ix is deprecated. Please use\n",
      ".loc for label based indexing or\n",
      ".iloc for positional indexing\n",
      "\n",
      "See the documentation here:\n",
      "http://pandas.pydata.org/pandas-docs/stable/indexing.html#ix-indexer-is-deprecated\n",
      "  topic_term_dists = topic_term_dists.ix[topic_order]\n"
     ]
    },
    {
     "data": {
      "text/html": [
       "\n",
       "<link rel=\"stylesheet\" type=\"text/css\" href=\"https://cdn.rawgit.com/bmabey/pyLDAvis/files/ldavis.v1.0.0.css\">\n",
       "\n",
       "\n",
       "<div id=\"ldavis_el973615824733743605325631233\"></div>\n",
       "<script type=\"text/javascript\">\n",
       "\n",
       "var ldavis_el973615824733743605325631233_data = {\"mdsDat\": {\"Freq\": [72.22440189152702, 20.238951758676514, 4.097299229779989, 1.6704742484987904, 0.9912761116338946, 0.5693845183530517, 0.10832653574379648, 0.03329559792157927, 0.03329519988503759, 0.033294907980312094], \"cluster\": [1, 1, 1, 1, 1, 1, 1, 1, 1, 1], \"topics\": [1, 2, 3, 4, 5, 6, 7, 8, 9, 10], \"x\": [-0.020722337719330044, -0.11384286480842204, -0.009518821027393255, 0.09020246135062522, -0.012560173119835896, 0.03701431541788693, 0.00581194241960203, 0.004792879253518671, 0.008952889581890723, 0.009869708651457577], \"y\": [-0.06115424942013672, 0.03680810025218357, -0.04020588206683137, 0.024736092329494197, 0.006976560387857258, 0.003778843613900501, 0.010321475335167578, -0.002624102724431925, 0.0015182278760319389, 0.019844934416764982]}, \"tinfo\": {\"Category\": [\"Default\", \"Default\", \"Default\", \"Default\", \"Default\", \"Default\", \"Default\", \"Default\", \"Default\", \"Default\", \"Default\", \"Default\", \"Default\", \"Default\", \"Default\", \"Default\", \"Default\", \"Default\", \"Default\", \"Default\", \"Default\", \"Default\", \"Default\", \"Default\", \"Default\", \"Default\", \"Default\", \"Default\", \"Default\", \"Default\", \"Topic1\", \"Topic1\", \"Topic1\", \"Topic1\", \"Topic1\", \"Topic1\", \"Topic1\", \"Topic1\", \"Topic1\", \"Topic1\", \"Topic1\", \"Topic1\", \"Topic1\", \"Topic1\", \"Topic1\", \"Topic1\", \"Topic1\", \"Topic1\", \"Topic1\", \"Topic1\", \"Topic1\", \"Topic1\", \"Topic1\", \"Topic1\", \"Topic1\", \"Topic1\", \"Topic1\", \"Topic1\", \"Topic1\", \"Topic1\", \"Topic1\", \"Topic1\", \"Topic1\", \"Topic1\", \"Topic1\", \"Topic1\", \"Topic1\", \"Topic1\", \"Topic1\", \"Topic1\", \"Topic1\", \"Topic1\", \"Topic1\", \"Topic1\", \"Topic1\", \"Topic1\", \"Topic1\", \"Topic1\", \"Topic1\", \"Topic1\", \"Topic1\", \"Topic1\", \"Topic1\", \"Topic1\", \"Topic1\", \"Topic1\", \"Topic1\", \"Topic1\", \"Topic1\", \"Topic1\", \"Topic1\", \"Topic2\", \"Topic2\", \"Topic2\", \"Topic2\", \"Topic2\", \"Topic2\", \"Topic2\", \"Topic2\", \"Topic2\", \"Topic2\", \"Topic2\", \"Topic2\", \"Topic2\", \"Topic2\", \"Topic2\", \"Topic2\", \"Topic2\", \"Topic2\", \"Topic2\", \"Topic2\", \"Topic2\", \"Topic2\", \"Topic2\", \"Topic2\", \"Topic2\", \"Topic2\", \"Topic2\", \"Topic2\", \"Topic2\", \"Topic2\", \"Topic2\", \"Topic2\", \"Topic2\", \"Topic2\", \"Topic2\", \"Topic2\", \"Topic2\", \"Topic2\", \"Topic2\", \"Topic2\", \"Topic2\", \"Topic2\", \"Topic2\", \"Topic2\", \"Topic2\", \"Topic2\", \"Topic2\", \"Topic2\", \"Topic2\", \"Topic2\", \"Topic2\", \"Topic2\", \"Topic2\", \"Topic2\", \"Topic2\", \"Topic2\", \"Topic2\", \"Topic2\", \"Topic2\", \"Topic2\", \"Topic2\", \"Topic2\", \"Topic2\", \"Topic2\", \"Topic2\", \"Topic2\", \"Topic2\", \"Topic3\", \"Topic3\", \"Topic3\", \"Topic3\", \"Topic3\", \"Topic3\", \"Topic3\", \"Topic3\", \"Topic3\", \"Topic3\", \"Topic3\", \"Topic3\", \"Topic3\", \"Topic3\", \"Topic3\", \"Topic3\", \"Topic3\", \"Topic3\", \"Topic3\", \"Topic3\", \"Topic3\", \"Topic3\", \"Topic3\", \"Topic3\", \"Topic3\", \"Topic3\", \"Topic3\", \"Topic3\", \"Topic3\", \"Topic3\", \"Topic3\", \"Topic3\", \"Topic3\", \"Topic3\", \"Topic3\", \"Topic3\", \"Topic3\", \"Topic3\", \"Topic3\", \"Topic3\", \"Topic3\", \"Topic3\", \"Topic3\", \"Topic3\", \"Topic3\", \"Topic3\", \"Topic3\", \"Topic3\", \"Topic3\", \"Topic3\", \"Topic3\", \"Topic3\", \"Topic3\", \"Topic4\", \"Topic4\", \"Topic4\", \"Topic4\", \"Topic4\", \"Topic4\", \"Topic4\", \"Topic4\", \"Topic4\", \"Topic4\", \"Topic4\", \"Topic4\", \"Topic4\", \"Topic4\", \"Topic4\", \"Topic4\", \"Topic4\", \"Topic4\", \"Topic4\", \"Topic4\", \"Topic4\", \"Topic4\", \"Topic4\", \"Topic4\", \"Topic4\", \"Topic4\", \"Topic4\", \"Topic4\", \"Topic4\", \"Topic4\", \"Topic4\", \"Topic4\", \"Topic4\", \"Topic4\", \"Topic4\", \"Topic4\", \"Topic4\", \"Topic4\", \"Topic4\", \"Topic4\", \"Topic4\", \"Topic5\", \"Topic5\", \"Topic5\", \"Topic5\", \"Topic5\", \"Topic5\", \"Topic5\", \"Topic5\", \"Topic5\", \"Topic5\", \"Topic5\", \"Topic5\", \"Topic5\", \"Topic5\", \"Topic5\", \"Topic5\", \"Topic5\", \"Topic5\", \"Topic5\", \"Topic5\", \"Topic5\", \"Topic5\", \"Topic5\", \"Topic5\", \"Topic5\", \"Topic5\", \"Topic5\", \"Topic5\", \"Topic5\", \"Topic5\", \"Topic5\", \"Topic5\", \"Topic5\", \"Topic5\", \"Topic5\", \"Topic5\", \"Topic5\", \"Topic5\", \"Topic5\", \"Topic5\", \"Topic5\", \"Topic5\", \"Topic5\", \"Topic5\", \"Topic5\", \"Topic5\", \"Topic5\", \"Topic5\", \"Topic5\", \"Topic6\", \"Topic6\", \"Topic6\", \"Topic6\", \"Topic6\", \"Topic6\", \"Topic6\", \"Topic6\", \"Topic6\", \"Topic6\", \"Topic6\", \"Topic6\", \"Topic6\", \"Topic6\", \"Topic6\", \"Topic6\", \"Topic6\", \"Topic6\", \"Topic6\", \"Topic6\", \"Topic6\", \"Topic6\", \"Topic6\", \"Topic6\", \"Topic6\", \"Topic6\", \"Topic6\", \"Topic6\", \"Topic6\", \"Topic6\", \"Topic6\", \"Topic6\", \"Topic6\", \"Topic6\", \"Topic6\", \"Topic6\", \"Topic6\", \"Topic6\", \"Topic6\", \"Topic6\", \"Topic6\", \"Topic6\", \"Topic6\", \"Topic6\", \"Topic6\", \"Topic6\", \"Topic6\", \"Topic6\", \"Topic6\", \"Topic6\", \"Topic7\", \"Topic7\", \"Topic7\", \"Topic7\", \"Topic7\", \"Topic7\", \"Topic7\", \"Topic7\", \"Topic7\", \"Topic7\", \"Topic7\", \"Topic7\", \"Topic7\", \"Topic7\", \"Topic7\", \"Topic7\", \"Topic7\", \"Topic7\", \"Topic7\", \"Topic7\", \"Topic7\", \"Topic7\", \"Topic7\", \"Topic7\", \"Topic7\", \"Topic7\", \"Topic7\", \"Topic7\", \"Topic7\", \"Topic7\", \"Topic7\", \"Topic7\", \"Topic7\", \"Topic7\", \"Topic7\", \"Topic7\", \"Topic7\", \"Topic7\", \"Topic7\", \"Topic7\", \"Topic7\", \"Topic7\", \"Topic7\", \"Topic7\", \"Topic7\", \"Topic7\", \"Topic7\", \"Topic7\", \"Topic7\", \"Topic7\", \"Topic7\", \"Topic7\", \"Topic7\", \"Topic7\", \"Topic7\", \"Topic7\", \"Topic7\", \"Topic7\", \"Topic7\", \"Topic7\", \"Topic7\", \"Topic7\", \"Topic7\", \"Topic7\", \"Topic7\", \"Topic7\", \"Topic7\", \"Topic7\", \"Topic7\", \"Topic8\", \"Topic8\", \"Topic8\", \"Topic8\", \"Topic8\", \"Topic8\", \"Topic8\", \"Topic8\", \"Topic8\", \"Topic8\", \"Topic8\", \"Topic8\", \"Topic8\", \"Topic8\", \"Topic8\", \"Topic8\", \"Topic8\", \"Topic8\", \"Topic8\", \"Topic8\", \"Topic8\", \"Topic8\", \"Topic8\", \"Topic8\", \"Topic8\", \"Topic8\", \"Topic8\", \"Topic8\", \"Topic8\", \"Topic8\", \"Topic8\", \"Topic8\", \"Topic8\", \"Topic8\", \"Topic8\", \"Topic8\", \"Topic8\", \"Topic8\", \"Topic8\", \"Topic8\", \"Topic8\", \"Topic8\", \"Topic8\", \"Topic8\", \"Topic8\", \"Topic8\", \"Topic8\", \"Topic8\", \"Topic8\", \"Topic8\", \"Topic8\", \"Topic8\", \"Topic8\", \"Topic8\", \"Topic8\", \"Topic8\", \"Topic8\", \"Topic8\", \"Topic8\", \"Topic8\", \"Topic8\", \"Topic8\", \"Topic8\", \"Topic8\", \"Topic8\", \"Topic8\", \"Topic8\", \"Topic8\", \"Topic8\", \"Topic8\", \"Topic9\", \"Topic9\", \"Topic9\", \"Topic9\", \"Topic9\", \"Topic9\", \"Topic9\", \"Topic9\", \"Topic9\", \"Topic9\", \"Topic9\", \"Topic9\", \"Topic9\", \"Topic9\", \"Topic9\", \"Topic9\", \"Topic9\", \"Topic9\", \"Topic9\", \"Topic9\", \"Topic9\", \"Topic9\", \"Topic9\", \"Topic9\", \"Topic9\", \"Topic9\", \"Topic9\", \"Topic9\", \"Topic9\", \"Topic9\", \"Topic9\", \"Topic9\", \"Topic9\", \"Topic9\", \"Topic9\", \"Topic9\", \"Topic9\", \"Topic9\", \"Topic9\", \"Topic9\", \"Topic9\", \"Topic9\", \"Topic9\", \"Topic9\", \"Topic9\", \"Topic9\", \"Topic9\", \"Topic9\", \"Topic9\", \"Topic9\", \"Topic9\", \"Topic9\", \"Topic9\", \"Topic9\", \"Topic9\", \"Topic9\", \"Topic9\", \"Topic9\", \"Topic9\", \"Topic9\", \"Topic9\", \"Topic9\", \"Topic9\", \"Topic9\", \"Topic9\", \"Topic9\", \"Topic9\", \"Topic9\", \"Topic9\", \"Topic9\", \"Topic9\", \"Topic9\", \"Topic9\", \"Topic9\", \"Topic9\", \"Topic9\", \"Topic9\", \"Topic9\", \"Topic9\", \"Topic9\", \"Topic9\", \"Topic9\", \"Topic10\", \"Topic10\", \"Topic10\", \"Topic10\", \"Topic10\", \"Topic10\", \"Topic10\", \"Topic10\", \"Topic10\", \"Topic10\", \"Topic10\", \"Topic10\", \"Topic10\", \"Topic10\", \"Topic10\", \"Topic10\", \"Topic10\", \"Topic10\", \"Topic10\", \"Topic10\", \"Topic10\", \"Topic10\", \"Topic10\", \"Topic10\", \"Topic10\", \"Topic10\", \"Topic10\", \"Topic10\", \"Topic10\", \"Topic10\", \"Topic10\", \"Topic10\", \"Topic10\", \"Topic10\", \"Topic10\", \"Topic10\", \"Topic10\", \"Topic10\", \"Topic10\", \"Topic10\", \"Topic10\", \"Topic10\", \"Topic10\", \"Topic10\", \"Topic10\", \"Topic10\", \"Topic10\", \"Topic10\", \"Topic10\", \"Topic10\", \"Topic10\", \"Topic10\", \"Topic10\", \"Topic10\", \"Topic10\", \"Topic10\", \"Topic10\", \"Topic10\", \"Topic10\", \"Topic10\", \"Topic10\", \"Topic10\", \"Topic10\", \"Topic10\", \"Topic10\", \"Topic10\", \"Topic10\", \"Topic10\", \"Topic10\", \"Topic10\", \"Topic10\"], \"Freq\": [1449.0, 1023.0, 967.0, 571.0, 682.0, 819.0, 635.0, 539.0, 852.0, 578.0, 546.0, 562.0, 550.0, 626.0, 401.0, 511.0, 496.0, 502.0, 374.0, 405.0, 343.0, 481.0, 354.0, 528.0, 360.0, 361.0, 383.0, 431.0, 424.0, 382.0, 103.41625918447552, 121.70804988158446, 60.07073700849859, 148.51986628153787, 206.24946459125331, 248.35867398829322, 341.2192345742797, 235.23569189154384, 376.51756473404214, 77.26011209152198, 176.62651875890768, 378.82700404967915, 135.92726965388303, 355.8080318580106, 42.96486909069732, 86.01615999880727, 474.8990722950388, 318.20728747275643, 346.7309823235026, 100.8992460960435, 76.17871281917795, 114.59646176332726, 153.10300194733085, 44.44295035245425, 106.22389581066106, 106.66589491368102, 60.44529507941141, 89.62236431322313, 118.0101235898958, 61.599281825544104, 622.5669021452632, 297.0284116773287, 329.3377585900922, 332.58584799549095, 311.3171713985223, 505.11263211740925, 302.15905539281454, 172.51815723667397, 481.15677141387255, 892.8388966777954, 560.5677519034862, 510.6137327734191, 317.4009356917234, 273.64386481107044, 1206.761324959975, 239.6874047062397, 460.87460759142135, 293.4392521022151, 761.4161243176638, 301.93300323921216, 618.1363716652289, 403.63512791748275, 319.37281132613634, 418.85718286992085, 456.4688225571196, 557.8665672732085, 420.14326005384436, 395.83073936397085, 402.769875656715, 320.36998467364975, 317.48250967965726, 47.962615404704344, 42.03954508900725, 50.43432273120613, 57.498563106360216, 50.640175044969, 37.20967104067666, 42.92881433627704, 33.33945309084823, 58.970715900049626, 48.19497746984958, 31.71846388546596, 30.495521956863854, 82.74441446030269, 29.215558771159152, 41.01540127585781, 40.89885088544437, 83.0704206381893, 49.03355967489618, 56.04419889128421, 296.52830035249144, 26.60642068184174, 26.541220317129316, 23.666246023718166, 24.159056847154886, 153.99670732930824, 47.2452749220685, 120.60421498061858, 41.19003403291178, 29.121802148426095, 26.329879820034595, 326.15802894574466, 313.80826091919016, 69.9059528520038, 83.55020423892397, 99.89803541968212, 68.94541832259993, 82.69764917428898, 176.92147194530605, 60.14462693354161, 78.40248637237237, 121.06870056127319, 117.01097539294784, 71.25572552722434, 137.22894942954784, 91.55423897825534, 263.6240508107097, 112.53239465942373, 78.86954596392079, 92.38061237178869, 134.1528948718066, 87.95587377277707, 91.5671353072028, 70.14660889798492, 143.64903114844864, 161.1753223511185, 132.73509529358918, 161.46712973550638, 83.4118626198997, 180.6316026423415, 111.24570232795493, 107.93758779545419, 104.60365162381787, 105.28429704828179, 91.94799987384337, 97.170669844527, 89.41706478109083, 87.06294332458795, 37.20944274928851, 23.21088457370782, 21.076518611839298, 13.329041825986522, 19.311136862065062, 11.81267077380261, 14.225340242908137, 19.721112764837432, 10.625411051334613, 31.57526244618888, 8.657565778006639, 13.281312282996502, 13.021401012030907, 9.746754501055264, 6.518434432483752, 8.509799702529294, 6.496171487743765, 7.561804508681947, 8.208170544016422, 23.299664020490102, 9.564891210753627, 6.676480326292007, 58.752860792359705, 9.46404888643679, 9.521301391647773, 8.308680171454927, 5.645787909309623, 9.544769794544392, 27.048274018204193, 8.15290462584388, 24.82960722974319, 17.573385213893705, 34.42848670695055, 13.498132989805304, 21.49899365301867, 35.52857297303924, 24.559623502632743, 22.519873124200245, 13.967621760361032, 31.1341648800512, 21.69628046100927, 31.53884328033217, 35.244243807930125, 17.495169984607685, 25.8556216450411, 19.915497699049713, 15.515637435780903, 18.18911366288741, 17.850625391425073, 18.09615356793904, 16.751999465645017, 16.870647062068375, 15.318299131340051, 23.992758741214008, 29.994248795979868, 16.180989211970026, 8.765103886729886, 16.48444308781877, 8.303046544182521, 8.07166218648713, 10.830917809662477, 6.943251755384734, 6.5636822011162606, 29.762971280445157, 4.952646709175243, 6.455737824014792, 9.205799269889152, 15.308291914084958, 6.602484469226913, 14.790036872659032, 15.374736361919458, 2.897456293025213, 5.397830313192393, 15.469075913595036, 14.753709683327914, 21.597130640625235, 4.488967672007952, 7.724471659005102, 5.277213976823449, 7.109391934589064, 5.474993293207402, 4.041524598494084, 7.253129893474427, 10.901168577966011, 11.994830620694959, 6.170072415074753, 14.683629098841394, 18.534791761539605, 6.797674902485426, 9.786267499030853, 12.51345932649407, 7.924370874489334, 7.525885763278282, 7.496958360274137, 8.051740496486637, 5.267649134574249, 4.244790381440243, 3.89863271400464, 2.0877406784204586, 2.8319692505225094, 2.7978010067539483, 5.565829585178512, 2.597883966525257, 5.143456474059759, 3.935846708196974, 2.8363853299721806, 3.4270576655974585, 2.3728465218905814, 3.808070117436536, 2.4481714837551376, 3.6924847318075855, 3.3120892026890814, 1.7202259238463566, 3.6093080521203182, 1.6576975942525556, 7.057596890840924, 2.2272243209331686, 1.8339905852395444, 2.366903733574461, 1.8441468178004494, 1.8480199058923907, 1.4822018126765708, 1.7670856161786503, 1.814430882604262, 3.6354772301370972, 3.263188990756128, 7.023869196317715, 7.04137955874696, 2.9236500567657946, 3.34176099767397, 5.659841997661432, 2.3116913087796416, 4.628463402630811, 4.526362374333033, 5.7587385246913065, 4.548397265069499, 4.362647645229325, 3.3121634289846895, 3.5799175443282, 3.863144516586633, 3.5903020008743467, 3.646346604018252, 3.269836229203042, 5.252329116993256, 8.731307808049607, 4.245518861414505, 4.268582968877341, 3.9348448911380567, 2.6474611023406704, 2.19017988628593, 2.306310960043711, 2.282163049397621, 1.905638182281005, 1.7771978611022061, 3.9311312555701274, 1.7248770455553015, 1.3617619415035975, 0.9446164129327269, 1.223064028383941, 0.9109156310950448, 1.1448341773661852, 3.108322558603803, 0.9060609953994753, 0.9677636709699414, 0.7788567498975122, 0.9880017700203765, 0.9569371141001266, 0.4841881585718778, 13.657971733996732, 0.7369045651131448, 0.9555015829856491, 0.7033325254315343, 0.8816139380751653, 1.6875223970522895, 0.9121492732805432, 0.8691125827171502, 1.6771546718350387, 1.7742805386394729, 2.6205760957941506, 1.6144347651303645, 2.493297605430741, 4.567964825408805, 1.9774840361552033, 1.3592350429280935, 2.5021837805698914, 1.3489584761995115, 2.1939007791540326, 1.919747804956215, 1.9367798622658394, 1.7376492875208724, 1.6805373940489903, 1.6644434306748612, 1.702054185483663, 1.9740850934820648, 0.21176232139647916, 0.23397281466876207, 0.1628141354836254, 0.2139034798120041, 0.12285370819521178, 0.21521096114858038, 0.18942659220581165, 0.13275365897210825, 0.13761221430943563, 0.10788204816062022, 0.10109961225238437, 0.12077633317245352, 0.11691573229519221, 0.13128156566728877, 0.1352555777455639, 0.10407766942530615, 0.08806107086247052, 0.09141350356852078, 0.09859044737680445, 0.09298653023819188, 0.09188005235407712, 0.10600407649267748, 0.09492875914016587, 0.10494042820597183, 0.11126504739938733, 0.10006446620623372, 0.0878335330105108, 0.10827932157971211, 0.08993296025103024, 0.09626890291808908, 0.11880643202495542, 0.10362456436622713, 0.12864505184501787, 0.23519028750242782, 0.1465977606057312, 0.11275956241386136, 0.14931124991921713, 0.11670462223858283, 0.2494855424791801, 0.14535363269504295, 0.14873321475415766, 0.34270935143157605, 0.15157710599798443, 0.13815275604744814, 0.2527273938324869, 0.2410072102801, 0.31193513819036756, 0.15200681217654163, 0.24069508171595877, 0.23902238589770902, 0.22384606364938422, 0.26236415530655666, 0.1781593538107907, 0.22285232803364038, 0.15409807644478207, 0.19107000056023912, 0.18882990424555007, 0.18913182961522046, 0.17167007493016867, 0.17470703923179193, 0.1870154723681329, 0.16467173877120192, 0.16887013198737405, 0.184722687949751, 0.17547953010114073, 0.1791464745580444, 0.17139988514477217, 0.1714304767019741, 0.04445072569767901, 0.026922425832294514, 0.03406017260583508, 0.03654561423641916, 0.031926475198515165, 0.03572772115407666, 0.03268068089802616, 0.027000242728152452, 0.03030537962729349, 0.02993256989379009, 0.03321920603654726, 0.032231001426005663, 0.02782669546472283, 0.028489862160905825, 0.02913801320056864, 0.02847606479708467, 0.026749871609787555, 0.03139531560199045, 0.03325787421245091, 0.03280951528947117, 0.0289540312835016, 0.030570467274234594, 0.030220776245917742, 0.04163344760114783, 0.03175067741785624, 0.02875773200329059, 0.025573665183901285, 0.029728500758473858, 0.0333432007783497, 0.026000356349109723, 0.047710486633593584, 0.03316583995644829, 0.038171993803194894, 0.05591192891432421, 0.03476516851288083, 0.04766323741868893, 0.045153485404326954, 0.048490367650218205, 0.05710763676684786, 0.10739742870196724, 0.11198027960200617, 0.0687967676212264, 0.09216919098593894, 0.0824639443259506, 0.10538500385789085, 0.0969218685263209, 0.057746419458080095, 0.09199598611299925, 0.09218268470055084, 0.07101105849528172, 0.09543990697878274, 0.08113433620863743, 0.10773441512140651, 0.12162944118925097, 0.10795486152389042, 0.06711911348590116, 0.07418777396654949, 0.08750463255821496, 0.06380783502142368, 0.08593280639595667, 0.06772897191502875, 0.06731150912814239, 0.07213646236458511, 0.06236170546761029, 0.06595007127184317, 0.06464030646671524, 0.0622710093020259, 0.06196974613220732, 0.06380298111962394, 0.06247617453535857, 0.03088366194082584, 0.03203251300588878, 0.03272002048904412, 0.03307970934930466, 0.032307738799991166, 0.03645907966118273, 0.03357069737176165, 0.03278347058921032, 0.03870629475973216, 0.034708074573254956, 0.03941293932968576, 0.027015723631661305, 0.03560743813565294, 0.029176082230200347, 0.03607527437610806, 0.055686312436935684, 0.03356163015521941, 0.0297822015938082, 0.027177151199740932, 0.03226607966576826, 0.029229160729092096, 0.02816636125948035, 0.029866509307270986, 0.027480761500623025, 0.03105126874268692, 0.029951188365535987, 0.0264643028263251, 0.02898929285128271, 0.030574318116829802, 0.03027256660719725, 0.03903791876308862, 0.036918289086309695, 0.03445977445748749, 0.033276730401896895, 0.031206599695617506, 0.043123816508761056, 0.03380803614127924, 0.031711337169713055, 0.035769284696991054, 0.044907541033712486, 0.036723586510475865, 0.03220306852421134, 0.0670266207048402, 0.03607682719910415, 0.037872276536541336, 0.042582651358063765, 0.11344487674719095, 0.04210356238181043, 0.07533819491901213, 0.04897736700663287, 0.06299039072540133, 0.08879968923639632, 0.08163257309712296, 0.0871716271495958, 0.05273852938726734, 0.05262935004581982, 0.08162348594876537, 0.0636717647591648, 0.04798677880463954, 0.05818677970689894, 0.06927461029703855, 0.06411341911632368, 0.05771247841690941, 0.05413198992345907, 0.06699275023030973, 0.05762187541140396, 0.05130764691600838, 0.06266658456230066, 0.0730449226854971, 0.05661009772083687, 0.05762058111853427, 0.06083252979359403, 0.06180986439890759, 0.05965480596760672, 0.05572646084731146, 0.053664419867089454, 0.056693952639974454, 0.055546974061608884, 0.05559078055602412, 0.054474952170022274, 0.05535763811175648, 0.05542301083535788, 0.028646761785363423, 0.037871957394330885, 0.03496172777640154, 0.036374053626569355, 0.03370228405881363, 0.02577052593053539, 0.035439350977270585, 0.03007878101036897, 0.031211003161585635, 0.031210543235518216, 0.030974776848607923, 0.03538604425315561, 0.03344654302965561, 0.029157848928402008, 0.037435185830791536, 0.0346324015015384, 0.03311046571773399, 0.03194414069467577, 0.030636930093767323, 0.02898050649681748, 0.029671794383366284, 0.029808551433567847, 0.03566379737059644, 0.048680332156080815, 0.04124392038159357, 0.03258979539483901, 0.03346319350372649, 0.035582743821418544, 0.03185921211181517, 0.031202987140752814, 0.03408145767391777, 0.03424604517976825, 0.041400276043743335, 0.047845596314153506, 0.036058797937925484, 0.04596799926648863, 0.03654110439036239, 0.039581700179943446, 0.03615196642477221, 0.0445525215113038, 0.03645175636571408, 0.053977357727337257, 0.04396642631136977, 0.045296100290475996, 0.041520264802586894, 0.04989120465309383, 0.07001404013316676, 0.04168644968013681, 0.05778840007308783, 0.06961599502525274, 0.06793420805936212, 0.06601536790732725, 0.05383484028093138, 0.05082404655885713, 0.05386994442465731, 0.05144590941510974, 0.05066065904338648, 0.05484732055944933, 0.04474466272796922, 0.04687625324511745, 0.049194797508952046, 0.05565468256370242, 0.0454212605900273, 0.05335173457413496, 0.04874133331306162, 0.045704900284063314, 0.04486434232456137, 0.04673353222204285, 0.04488181835386798, 0.04565617923740258, 0.044736892190231185], \"Term\": [\"game\", \"just\", \"said\", \"baltimore\", \"going\", \"play\", \"good\", \"like\", \"week\", \"flacco\", \"team\", \"defense\", \"hes\", \"season\", \"think\", \"offense\", \"practice\", \"time\", \"really\", \"ball\", \"guys\", \"injury\", \"football\", \"games\", \"know\", \"win\", \"thats\", \"year\", \"harbaugh\", \"make\", \"overtime\", \"weve\", \"trubisky\", \"points\", \"wrote\", \"better\", \"win\", \"things\", \"think\", \"bisciotti\", \"loss\", \"ball\", \"passing\", \"thats\", \"weve got\", \"turnovers\", \"offense\", \"guys\", \"really\", \"today\", \"obviously\", \"theyre\", \"thing\", \"lose\", \"thought\", \"definitely\", \"ravens offense\", \"winning\", \"doesnt\", \"afc\", \"going\", \"lot\", \"know\", \"got\", \"dont\", \"defense\", \"way\", \"job\", \"like\", \"just\", \"good\", \"flacco\", \"football\", \"plays\", \"game\", \"great\", \"team\", \"im\", \"said\", \"run\", \"play\", \"time\", \"make\", \"hes\", \"season\", \"week\", \"baltimore\", \"games\", \"yards\", \"year\", \"harbaugh\", \"questionable\", \"injury report\", \"participant\", \"thigh\", \"listed\", \"practice week\", \"ruled\", \"returned practice\", \"davis\", \"achilles\", \"foot injury\", \"langford\", \"limited\", \"carl davis\", \"calf\", \"canady\", \"ankle\", \"hamstring\", \"defensive tackle\", \"williams\", \"ankle injury\", \"ir\", \"wormley\", \"tim williams\", \"smith\", \"foot\", \"knee\", \"sidelined\", \"tim\", \"defensive tackle brandon\", \"injury\", \"practice\", \"woodhead\", \"campanaro\", \"cornerback\", \"reserve\", \"tight end\", \"defensive\", \"returned\", \"injured\", \"receiver\", \"weeks\", \"hill\", \"rookie\", \"wide receiver\", \"week\", \"wide\", \"missed\", \"perriman\", \"end\", \"tight\", \"tackle\", \"west\", \"season\", \"play\", \"yards\", \"said\", \"roster\", \"game\", \"running\", \"hes\", \"games\", \"baltimore\", \"players\", \"just\", \"harbaugh\", \"year\", \"woodrum\", \"urschel\", \"bradley\", \"mallett\", \"saturday\", \"bills\", \"mizzell\", \"ricard\", \"fullback\", \"london\", \"albert\", \"new orleans\", \"orleans\", \"trip\", \"bam\", \"buffalo\", \"taquan\", \"pm\", \"ravens fans\", \"undrafted\", \"active\", \"world\", \"preseason\", \"onwuasor\", \"sports\", \"starters\", \"pair\", \"patrick\", \"fans\", \"preseason game\", \"roster\", \"hill\", \"nfl\", \"53man\", \"new\", \"team\", \"teams\", \"football\", \"camp\", \"play\", \"players\", \"said\", \"game\", \"wallace\", \"just\", \"flacco\", \"linebacker\", \"hes\", \"games\", \"going\", \"time\", \"yards\", \"good\", \"cancer\", \"purple\", \"pm\", \"live\", \"fan\", \"sept\", \"available\", \"kickoff\", \"video\", \"baltimore ravens\", \"fans\", \"support\", \"million\", \"friday\", \"mt bank\", \"ravens fans\", \"mt bank stadium\", \"mt\", \"community\", \"tv\", \"bank\", \"bank stadium\", \"stadium\", \"gameday\", \"face\", \"houston\", \"sports\", \"nfls\", \"rock\", \"experience\", \"catch\", \"new\", \"media\", \"baltimore\", \"game\", \"super\", \"nfl\", \"week\", \"year\", \"teams\", \"team\", \"hurst\", \"orr\", \"left guard\", \"lb\", \"foster\", \"james\", \"te\", \"jensen\", \"ryan jensen\", \"wr\", \"cb\", \"questions\", \"left tackle\", \"austin howard\", \"following\", \"austin\", \"rb\", \"starters\", \"contract\", \"lewis\", \"olb\", \"guard\", \"ronnie stanley\", \"preseason games\", \"ronnie\", \"mallett\", \"theyll\", \"albert\", \"general\", \"cj\", \"ryan\", \"center\", \"left\", \"tackle\", \"bergstrom\", \"howard\", \"preseason\", \"regularseason\", \"offensive\", \"players\", \"said\", \"practice\", \"play\", \"roster\", \"right\", \"just\", \"good\", \"game\", \"baltimore\", \"community\", \"school\", \"high school\", \"city\", \"baltimore ravens\", \"pitta\", \"dennis\", \"radio\", \"area\", \"completed\", \"addition\", \"2017\", \"justin\", \"organization\", \"live\", \"40\", \"announced\", \"th\", \"high\", \"31\", \"national\", \"san\", \"helped\", \"million\", \"foster\", \"baltimore\", \"built\", \"hope\", \"rock\", \"difference\", \"watch\", \"nearly\", \"ability\", \"mt\", \"howard\", \"new\", \"including\", \"nfl\", \"game\", \"years\", \"mt bank\", \"season\", \"bank\", \"team\", \"football\", \"quarterback\", \"like\", \"time\", \"games\", \"just\", \"foster\", \"community\", \"orleans\", \"life\", \"preseason game\", \"somebody\", \"woodrum\", \"new orleans\", \"buffalo\", \"bills\", \"turnover\", \"taquan\", \"thinking\", \"sept\", \"mallett\", \"corps\", \"penalties\", \"bam\", \"left guard\", \"camp preseason\", \"addition\", \"rival\", \"cornerbacks\", \"cancer\", \"speed\", \"michael pierce\", \"mind\", \"tyus\", \"weekend\", \"olb\", \"prepare\", \"difficult\", \"correa\", \"stay\", \"wanted\", \"impressive\", \"patriots\", \"saturday\", \"wouldnt\", \"camp\", \"college\", \"division\", \"preseason\", \"tucker\", \"miami\", \"football\", \"make\", \"said\", \"practice squad\", \"practice\", \"hes\", \"harbaugh\", \"game\", \"harbaugh said\", \"week\", \"squad\", \"time\", \"injury\", \"offense\", \"head\", \"played\", \"going\", \"new\", \"pass\", \"just\", \"flacco\", \"play\", \"running\", \"good\", \"foster\", \"community\", \"valuable\", \"camp preseason\", \"200\", \"somebody\", \"tight ends\", \"orr\", \"drafted\", \"taquan\", \"mind\", \"sense\", \"competing\", \"rival\", \"olb\", \"lb\", \"bam\", \"laughter\", \"great job\", \"positions\", \"turnover\", \"run ball\", \"care\", \"use\", \"hensley\", \"credit\", \"contract\", \"penalties\", \"attempts\", \"tyus\", \"excited\", \"world\", \"levine\", \"fun\", \"starts\", \"important\", \"face\", \"felt\", \"watson\", \"think\", \"like\", \"job\", \"really\", \"preseason\", \"going\", \"defense\", \"feel\", \"team\", \"hes\", \"great\", \"good\", \"ball\", \"said\", \"game\", \"just\", \"things\", \"guys\", \"flacco\", \"want\", \"play\", \"did\", \"dont\", \"practice\", \"joe\", \"win\", \"know\", \"football\", \"injury\", \"week\", \"season\", \"community\", \"foster\", \"200\", \"competing\", \"live\", \"sense\", \"drafted\", \"lb\", \"correa\", \"tight ends\", \"prove\", \"orr\", \"great job\", \"rival\", \"build\", \"onwuasor\", \"numbers\", \"cancer\", \"bam\", \"happens\", \"support\", \"taquan\", \"camp preseason\", \"tyus\", \"100\", \"radio\", \"valuable\", \"shown\", \"ozzie newsome\", \"prepare\", \"fully\", \"starts\", \"baltimore ravens\", \"yesterday\", \"albert\", \"showed\", \"recent\", \"positions\", \"air\", \"plan\", \"levine\", \"gives\", \"suggs\", \"returned practice\", \"fumble\", \"reps\", \"going\", \"opener\", \"guys\", \"pretty\", \"things\", \"play\", \"good\", \"said\", \"kind\", \"thing\", \"just\", \"make\", \"training\", \"great\", \"defense\", \"think\", \"joe\", \"player\", \"like\", \"plays\", \"day\", \"team\", \"game\", \"played\", \"really\", \"hes\", \"season\", \"practice\", \"way\", \"want\", \"year\", \"know\", \"games\", \"end\", \"flacco\", \"week\", \"community\", \"taquan\", \"dennis\", \"tyus\", \"bam\", \"foster\", \"replace\", \"orr\", \"valuable\", \"live\", \"contract\", \"brent urban\", \"dominant\", \"200\", \"weekend\", \"austin howard\", \"prepare\", \"camp preseason\", \"olb\", \"competing\", \"rival\", \"drafted\", \"rankings\", \"rookie quarterback\", \"air\", \"tape\", \"multiple\", \"backfield\", \"james\", \"mind\", \"break\", \"michael pierce\", \"use\", \"spots\", \"situations\", \"sports\", \"moved\", \"mizzell\", \"mallett\", \"danny woodhead\", \"general\", \"watson\", \"opener\", \"report\", \"reporters\", \"woodhead\", \"injury\", \"danny\", \"coach\", \"flacco\", \"baltimore\", \"team\", \"things\", \"return\", \"preseason\", \"joe\", \"head\", \"practice\", \"bengals\", \"perriman\", \"rookie\", \"week\", \"wide receiver\", \"said\", \"like\", \"weeks\", \"new\", \"year\", \"head coach\", \"time\", \"injuries\"], \"Total\": [1449.0, 1023.0, 967.0, 571.0, 682.0, 819.0, 635.0, 539.0, 852.0, 578.0, 546.0, 562.0, 550.0, 626.0, 401.0, 511.0, 496.0, 502.0, 374.0, 405.0, 343.0, 481.0, 354.0, 528.0, 360.0, 361.0, 383.0, 431.0, 424.0, 382.0, 108.48027116355222, 127.865764658939, 63.5265524995387, 157.096165575802, 218.19017256603357, 263.1223972827982, 361.61118875780545, 250.70182982578905, 401.88343897373886, 82.54736706646844, 188.99076094580218, 405.532112124913, 146.17707277468594, 383.26278938192706, 46.28389845664419, 92.67688879937226, 511.9048430832171, 343.17835983295777, 374.04446137123307, 109.03369099543322, 82.3588699363755, 123.9111555614146, 165.75641543249176, 48.12796946035841, 115.14756103269274, 115.63203968200827, 65.54819788581014, 97.71257344376518, 128.74489620884938, 67.24658522419773, 682.8224703427409, 324.4273801046085, 360.1787736837594, 364.63355840793963, 341.6600444029775, 562.4472255952378, 333.2935397792162, 188.56317926898484, 539.8717055895846, 1023.1197939522833, 635.115603117615, 578.4999959627519, 354.8594208948599, 304.1483051810074, 1449.8799948492526, 267.55107629704037, 546.2086919474802, 335.2815336020568, 967.997958361664, 356.10247933567666, 819.4101830106032, 502.82283424891824, 382.89453430319367, 550.5074299621299, 626.5988634517691, 852.3232723115684, 571.8107320292171, 528.0392485609775, 554.8761994994326, 431.67224623576675, 424.4180276086118, 51.885453636604396, 46.33040415410335, 56.09125253280457, 63.97032911588386, 57.66090260842586, 42.86240366569598, 50.63597062267824, 40.73453612176019, 73.32580458519749, 60.87134618190896, 40.457133534638956, 38.98480419071328, 105.77876984610879, 37.43017978388742, 52.57767366869128, 53.19403146526651, 108.58139439159036, 66.02578335952572, 76.02464984968059, 405.08119264105284, 36.95749625086978, 37.12382304317087, 33.26142859746324, 34.17114079961084, 218.85600693593793, 67.16256120033562, 172.5793725212994, 59.23283957505255, 42.91824949796651, 38.82225764768998, 481.67183458171746, 496.01435118144593, 105.7596182192226, 133.50613916891987, 169.80948421200756, 111.09036153175194, 139.62736859874337, 365.1678035531652, 95.0079838937549, 137.43741661364922, 254.041266729482, 246.94987898177408, 121.01359917074112, 316.65206894287326, 174.98682040682655, 852.3232723115684, 252.86395752437957, 143.0424851891096, 186.64765386679863, 355.33973809187125, 181.147221209272, 212.23038242944796, 120.45958753870333, 626.5988634517691, 819.4101830106032, 554.8761994994326, 967.997958361664, 179.61323895786802, 1449.8799948492526, 406.16395678004295, 550.5074299621299, 528.0392485609775, 571.8107320292171, 380.1535551286764, 1023.1197939522833, 424.4180276086118, 431.67224623576675, 53.46928645329401, 38.53086836680168, 42.41468821498028, 36.60631504126365, 54.08430542141651, 35.13977199282734, 42.66704469643433, 62.872571766223736, 36.25681430319693, 110.84265406634536, 30.633794095338043, 47.18083110312707, 48.658956279697435, 36.70381457858767, 25.248566068669568, 33.54750229412165, 26.67716760265395, 35.60907418322803, 39.19245155147346, 111.5937882600608, 48.12827276876863, 33.86692151270867, 298.7787043715742, 51.38049959199281, 53.04284930546645, 47.7100368667575, 32.70333109746385, 56.478564415311645, 160.91777776039618, 48.8352781341666, 179.61323895786802, 121.01359917074112, 305.86497586158526, 92.0482613938127, 195.39412448186036, 546.2086919474802, 399.83386619672115, 354.8594208948599, 127.95708279562577, 819.4101830106032, 380.1535551286764, 967.997958361664, 1449.8799948492526, 260.0740665045886, 1023.1197939522833, 578.4999959627519, 200.7910586361126, 550.5074299621299, 528.0392485609775, 682.8224703427409, 502.82283424891824, 554.8761994994326, 635.115603117615, 27.654357382752313, 45.4277447717096, 35.60907418322803, 25.53745234421239, 49.279436312217584, 32.13212149068592, 33.53996927419844, 50.32415503484636, 34.8632291636934, 34.31365130601886, 160.91777776039618, 27.608544693923125, 37.921624049649814, 54.09623612149698, 90.46910493386133, 39.19245155147346, 88.59484769814496, 92.56234263300604, 17.477465305506016, 33.17529568346046, 97.47622165232009, 93.97190508052579, 142.39259056940563, 30.126634014376577, 55.54161483868754, 38.97467273819796, 53.04284930546645, 40.98152416655004, 30.36223193074866, 55.18883099519449, 99.33348965172347, 195.39412448186036, 63.583084209590055, 571.8107320292171, 1449.8799948492526, 83.82807735024996, 305.86497586158526, 852.3232723115684, 431.67224623576675, 399.83386619672115, 546.2086919474802, 31.02885388279443, 23.953134341187866, 26.222980913494467, 26.63023202174553, 19.681238211744116, 30.178427138810658, 30.594563404879008, 66.39190227468394, 31.245099201511525, 62.410699251039865, 47.85189896392415, 35.217715894390366, 43.19281072676258, 30.474861752626023, 49.55392278735072, 32.5372130997551, 51.1627415660287, 47.7100368667575, 25.596738521325495, 57.38210925114004, 27.24903525606357, 124.33890979532802, 40.9924474671721, 34.968820644446154, 45.30416764361151, 36.60631504126365, 37.84547687997543, 30.633794095338043, 37.817544786456885, 39.01953881050363, 78.89112838727392, 72.20128055602069, 190.37475107954182, 212.23038242944796, 74.93611028853928, 100.35193178704343, 298.7787043715742, 53.46574589019304, 371.08754336792805, 380.1535551286764, 967.997958361664, 496.01435118144593, 819.4101830106032, 179.61323895786802, 319.13113722734005, 1023.1197939522833, 635.115603117615, 1449.8799948492526, 571.8107320292171, 17.477465305506016, 43.32384155350054, 31.97032160724675, 36.03153399135285, 34.31365130601886, 27.505504597494287, 25.134268896729928, 28.720858878148405, 32.88193139218477, 27.45828224330563, 26.8145077386846, 61.683404846025525, 33.07173396935476, 29.714541657196122, 25.53745234421239, 35.5938818159049, 30.109369005526695, 39.47683692620279, 107.39052330082163, 31.894882601509817, 36.59996463759914, 30.013093753204203, 38.35528782684336, 37.921624049649814, 19.681238211744116, 571.8107320292171, 31.399054821676184, 41.112226374018924, 30.36223193074866, 38.339539775526426, 78.11277193576954, 40.190258789802776, 38.700154545466184, 92.56234263300604, 100.35193178704343, 195.39412448186036, 97.04824354459979, 305.86497586158526, 1449.8799948492526, 227.3863102347958, 90.46910493386133, 626.5988634517691, 97.47622165232009, 546.2086919474802, 354.8594208948599, 387.793097139944, 539.8717055895846, 502.82283424891824, 528.0392485609775, 1023.1197939522833, 19.681238211744116, 17.477465305506016, 48.658956279697435, 34.87911200309327, 48.8352781341666, 29.479393811561103, 53.46928645329401, 47.18083110312707, 33.54750229412165, 35.13977199282734, 27.83357906337657, 26.67716760265395, 33.121823457929686, 32.13212149068592, 36.60631504126365, 38.595873641919916, 29.759956266281847, 25.248566068669568, 26.222980913494467, 28.404113753389048, 26.8145077386846, 26.53181038830769, 30.723595762177148, 27.654357382752313, 30.835327120715537, 32.72084245263121, 29.67646661517406, 26.21451096385749, 32.79662884126962, 27.24903525606357, 29.253586544680267, 36.73027443159362, 31.74713942772384, 41.0370419610235, 90.51157869592059, 49.43688236614333, 35.42837297664383, 54.08430542141651, 37.77563431676592, 127.95708279562577, 55.221300717043015, 58.81764581479674, 298.7787043715742, 69.80701893272428, 61.11134802381829, 354.8594208948599, 382.89453430319367, 967.997958361664, 91.98013936460933, 496.01435118144593, 550.5074299621299, 424.4180276086118, 1449.8799948492526, 219.39964988859938, 852.3232723115684, 110.71455251313877, 502.82283424891824, 481.67183458171746, 511.9048430832171, 247.52012748828002, 331.3912097882548, 682.8224703427409, 195.39412448186036, 264.2984017968419, 1023.1197939522833, 578.4999959627519, 819.4101830106032, 406.16395678004295, 635.115603117615, 19.681238211744116, 17.477465305506016, 25.426667145833285, 28.404113753389048, 25.534923792675833, 29.479393811561103, 28.756350445939816, 23.953134341187866, 26.886147474960175, 26.67716760265395, 29.67646661517406, 28.964889027149304, 25.832961897385772, 26.53181038830769, 27.24903525606357, 26.63023202174553, 25.248566068669568, 29.858937216489, 31.717541709787984, 31.38851739515248, 27.83357906337657, 29.718245388722217, 29.633027073481834, 41.063993718808256, 31.387012224849666, 28.491055171041136, 25.596738521325495, 29.759956266281847, 33.386262035551226, 26.21451096385749, 49.22063049533705, 33.86692151270867, 40.58072850725557, 69.38153588190461, 36.954803224225344, 59.266937433302765, 55.54161483868754, 74.0833952121735, 105.0038438066898, 401.88343897373886, 539.8717055895846, 188.56317926898484, 374.04446137123307, 298.7787043715742, 682.8224703427409, 562.4472255952378, 148.767825136886, 546.2086919474802, 550.5074299621299, 267.55107629704037, 635.115603117615, 405.532112124913, 967.997958361664, 1449.8799948492526, 1023.1197939522833, 250.70182982578905, 343.17835983295777, 578.4999959627519, 249.74547377526284, 819.4101830106032, 341.72108676949017, 341.6600444029775, 496.01435118144593, 262.0723805188666, 361.61118875780545, 360.1787736837594, 354.8594208948599, 481.67183458171746, 852.3232723115684, 626.5988634517691, 17.477465305506016, 19.681238211744116, 25.534923792675833, 25.832961897385772, 25.53745234421239, 28.964889027149304, 26.886147474960175, 26.63023202174553, 31.74713942772384, 28.756350445939816, 33.021307480755, 23.953134341187866, 31.717541709787984, 26.53181038830769, 33.03782739220475, 51.38049959199281, 31.06327850194201, 27.654357382752313, 25.248566068669568, 30.346240945816568, 27.608544693923125, 26.67716760265395, 28.404113753389048, 26.21451096385749, 29.643583090687592, 28.720858878148405, 25.426667145833285, 27.878212542437467, 29.542045211243437, 29.253586544680267, 37.72494590547657, 36.954803224225344, 34.31365130601886, 32.96328330759638, 30.633794095338043, 48.61943858163659, 34.34366244781242, 31.38851739515248, 38.19867361674112, 55.54905301480477, 40.58072850725557, 32.343205450608835, 130.218292653453, 40.73453612176019, 45.56627978881676, 62.11159444781533, 682.8224703427409, 63.75489942674377, 343.17835983295777, 101.89234938607483, 250.70182982578905, 819.4101830106032, 635.115603117615, 967.997958361664, 155.34582436605427, 165.75641543249176, 1023.1197939522833, 382.89453430319367, 119.49547718003434, 267.55107629704037, 562.4472255952378, 401.88343897373886, 262.0723805188666, 202.3588863508594, 539.8717055895846, 304.1483051810074, 179.65497352083972, 546.2086919474802, 1449.8799948492526, 331.3912097882548, 374.04446137123307, 550.5074299621299, 626.5988634517691, 496.01435118144593, 333.2935397792162, 249.74547377526284, 431.67224623576675, 360.1787736837594, 528.0392485609775, 355.33973809187125, 578.4999959627519, 852.3232723115684, 17.477465305506016, 26.67716760265395, 25.134268896729928, 26.21451096385749, 25.248566068669568, 19.681238211744116, 27.601108614890855, 23.953134341187866, 25.426667145833285, 25.53745234421239, 25.596738521325495, 29.36141002628809, 28.017374517826028, 25.534923792675833, 32.79662884126962, 30.474861752626023, 29.253586544680267, 28.404113753389048, 27.24903525606357, 25.832961897385772, 26.53181038830769, 26.886147474960175, 32.498419444747924, 44.69053199967345, 38.19867361674112, 30.42628971411725, 31.336656900960808, 33.42825322597223, 30.178427138810658, 29.67646661517406, 32.48938978567385, 32.72084245263121, 41.063993718808256, 53.068194641148146, 35.36029358360685, 53.04284930546645, 37.008673486489506, 42.66704469643433, 36.60631504126365, 58.24118678335756, 37.817544786456885, 105.0038438066898, 63.75489942674377, 70.57445726436231, 57.05992371864049, 105.7596182192226, 481.67183458171746, 70.5881912956957, 264.8173041270657, 578.4999959627519, 571.8107320292171, 546.2086919474802, 250.70182982578905, 196.08652191343185, 298.7787043715742, 262.0723805188666, 247.52012748828002, 496.01435118144593, 136.73209652469123, 186.64765386679863, 316.65206894287326, 852.3232723115684, 174.98682040682655, 967.997958361664, 539.8717055895846, 246.94987898177408, 195.39412448186036, 431.67224623576675, 200.7044107649429, 502.82283424891824, 200.10203970448202], \"loglift\": [30.0, 29.0, 28.0, 27.0, 26.0, 25.0, 24.0, 23.0, 22.0, 21.0, 20.0, 19.0, 18.0, 17.0, 16.0, 15.0, 14.0, 13.0, 12.0, 11.0, 10.0, 9.0, 8.0, 7.0, 6.0, 5.0, 4.0, 3.0, 2.0, 1.0, 0.2776, 0.276, 0.2695, 0.2693, 0.2691, 0.2676, 0.2673, 0.2617, 0.2602, 0.2592, 0.2577, 0.2573, 0.2527, 0.2511, 0.251, 0.2508, 0.2504, 0.2498, 0.2496, 0.2479, 0.2474, 0.2472, 0.246, 0.2457, 0.2447, 0.2447, 0.2443, 0.239, 0.2383, 0.2377, 0.233, 0.2372, 0.2359, 0.2334, 0.2324, 0.2179, 0.2273, 0.2365, 0.2103, 0.1892, 0.2005, 0.2006, 0.2138, 0.2197, 0.1419, 0.2154, 0.1555, 0.1921, 0.0853, 0.1604, 0.0435, 0.1057, 0.144, 0.0521, 0.0086, -0.0985, 0.0172, 0.0372, 0.005, 0.0272, 0.0351, 1.5189, 1.5004, 1.4913, 1.4909, 1.4677, 1.4561, 1.4324, 1.3972, 1.3797, 1.3641, 1.3542, 1.352, 1.352, 1.3498, 1.3492, 1.3347, 1.3297, 1.3, 1.2926, 1.2856, 1.2689, 1.262, 1.2572, 1.2508, 1.2461, 1.2458, 1.2392, 1.2343, 1.2098, 1.2093, 1.2077, 1.1397, 1.1835, 1.1289, 1.067, 1.1205, 1.0738, 0.8729, 1.1404, 1.0362, 0.8564, 0.8506, 1.0679, 0.7614, 0.9498, 0.4241, 0.788, 1.0022, 0.8943, 0.6235, 0.8751, 0.757, 1.0568, 0.1246, -0.0285, 0.1672, -0.1934, 0.8305, -0.4852, 0.3025, -0.0317, -0.0214, -0.0946, 0.1782, -0.7566, 0.0402, -0.0035, 2.8323, 2.688, 2.4955, 2.1846, 2.165, 2.1047, 2.0964, 2.0354, 1.9675, 1.9391, 1.9312, 1.9272, 1.8766, 1.8689, 1.8407, 1.8231, 1.7822, 1.6454, 1.6315, 1.6284, 1.5791, 1.571, 1.5685, 1.5031, 1.4773, 1.447, 1.4383, 1.417, 1.4116, 1.4048, 1.2161, 1.2653, 1.0106, 1.2751, 0.9878, 0.4622, 0.4049, 0.4375, 0.9799, -0.0754, 0.3314, -0.2292, -0.5221, 0.4958, -0.4832, -0.1741, 0.6344, -0.2152, -0.1923, -0.4357, -0.2069, -0.2983, -0.5299, 3.95, 3.6769, 3.3033, 3.0227, 2.997, 2.7388, 2.6677, 2.556, 2.4784, 2.4381, 2.4044, 2.3739, 2.3215, 2.3211, 2.3154, 2.311, 2.3019, 2.2969, 2.295, 2.2763, 2.2513, 2.2406, 2.206, 2.1883, 2.1193, 2.0925, 2.0824, 2.0791, 2.0755, 2.0627, 1.8824, 1.3015, 1.7594, 0.43, -0.2675, 1.5799, 0.6499, -0.1291, 0.0943, 0.1194, -0.1964, 3.2649, 3.0994, 2.793, 2.6925, 2.3703, 2.2478, 2.2219, 2.135, 2.1268, 2.1179, 2.1159, 2.0949, 2.08, 2.0611, 2.048, 2.0269, 1.9852, 1.9464, 1.9139, 1.8477, 1.8143, 1.745, 1.7013, 1.666, 1.6621, 1.6257, 1.5945, 1.5854, 1.5505, 1.5456, 1.5366, 1.5172, 1.3143, 1.2081, 1.3701, 1.2117, 0.6476, 1.4729, 0.2297, 0.1833, -0.5106, -0.0779, -0.6216, 0.6207, 0.1237, -0.9652, -0.5616, -1.3716, -0.5501, 3.9661, 3.5666, 3.1494, 3.0353, 3.0027, 2.8276, 2.7281, 2.6464, 2.5006, 2.5005, 2.4545, 2.4153, 2.2148, 2.0855, 1.8712, 1.7976, 1.6702, 1.6279, 1.626, 1.6073, 1.5356, 1.5168, 1.5094, 1.4888, 1.4634, 1.4339, 1.4163, 1.4065, 1.4032, 1.3959, 1.3335, 1.3828, 1.3722, 1.1576, 1.1331, 0.8567, 1.0721, 0.3588, -0.5918, 0.4235, 0.9703, -0.3548, 0.8881, -0.349, -0.0512, -0.1311, -0.5704, -0.5328, -0.5913, -1.2304, 4.5282, 2.4146, 1.4904, 1.4607, 1.3971, 1.3473, 1.3125, 1.31, 1.2956, 1.2851, 1.2748, 1.2523, 1.2138, 1.2116, 1.1971, 1.174, 1.172, 1.1693, 1.1688, 1.1645, 1.1635, 1.1622, 1.1585, 1.1534, 1.1448, 1.1439, 1.1355, 1.1292, 1.1144, 1.1141, 1.1112, 1.0939, 1.103, 1.0626, 0.8749, 1.007, 1.0778, 0.9355, 1.048, 0.5877, 0.8878, 0.8477, 0.0572, 0.6954, 0.7357, -0.4194, -0.5429, -1.2124, 0.4224, -0.8031, -0.9143, -0.7197, -1.7895, -0.2882, -1.4214, 0.2507, -1.0476, -1.0164, -1.0757, -0.4459, -0.7202, -1.375, -0.251, -0.5279, -1.7917, -1.2729, -1.6004, -0.9427, -1.3896, 1.9145, 1.5318, 1.3921, 1.3518, 1.3231, 1.292, 1.2277, 1.2195, 1.2195, 1.2149, 1.2125, 1.2066, 1.1741, 1.1709, 1.1668, 1.1668, 1.1575, 1.1499, 1.1472, 1.144, 1.1392, 1.128, 1.1194, 1.1135, 1.1113, 1.1091, 1.0988, 1.0987, 1.0985, 1.0915, 1.0686, 1.0788, 1.0386, 0.8839, 1.0387, 0.8819, 0.8927, 0.6759, 0.4907, -0.2199, -0.4733, 0.0915, -0.301, -0.1876, -0.7689, -0.6586, 0.1534, -0.6815, -0.6873, -0.2267, -0.7956, -0.5093, -1.0958, -1.3785, -1.1492, -0.2181, -0.4319, -0.789, -0.2648, -1.1553, -0.5187, -0.5247, -0.8283, -0.3359, -0.6019, -0.618, -0.6405, -0.9509, -1.4924, -1.2058, 1.6691, 1.5868, 1.3477, 1.347, 1.3349, 1.3299, 1.3218, 1.3076, 1.298, 1.2879, 1.2767, 1.2201, 1.2154, 1.1948, 1.1877, 1.1802, 1.1771, 1.1739, 1.1734, 1.1611, 1.1568, 1.1541, 1.15, 1.1469, 1.1462, 1.1417, 1.1398, 1.1388, 1.1341, 1.134, 1.134, 1.0988, 1.104, 1.1092, 1.1183, 0.9798, 1.084, 1.11, 1.034, 0.8871, 0.9999, 1.0954, 0.4356, 0.9783, 0.9148, 0.7223, -0.6952, 0.6848, -0.4165, 0.3672, -0.2815, -1.1224, -0.9518, -1.3076, 0.0194, -0.0475, -1.4287, -0.6943, 0.1874, -0.4259, -0.9945, -0.7358, -0.4134, -0.2189, -0.987, -0.5639, -0.1534, -1.0654, -1.8884, -0.6674, -0.7707, -1.103, -1.2165, -1.0183, -0.6888, -0.4379, -0.9302, -0.7696, -1.1514, -0.7756, -1.2469, -1.6332, 1.5939, 1.4502, 1.4298, 1.4273, 1.3886, 1.3693, 1.3497, 1.3275, 1.3047, 1.3004, 1.2905, 1.2864, 1.2769, 1.2324, 1.2321, 1.2277, 1.2236, 1.2172, 1.217, 1.2147, 1.2116, 1.2029, 1.1927, 1.1853, 1.1765, 1.1685, 1.1654, 1.1622, 1.154, 1.1499, 1.1476, 1.1453, 1.1079, 0.9962, 1.1193, 0.9566, 1.0871, 1.0247, 1.0873, 0.8318, 1.063, 0.4343, 0.7281, 0.6563, 0.7818, 0.3484, -0.8288, 0.5731, -0.4225, -1.0177, -1.0305, -1.0133, -0.4386, -0.2504, -0.6134, -0.5283, -0.4866, -1.1023, -0.0173, -0.2819, -0.7623, -1.629, -0.249, -1.7986, -1.305, -0.5872, -0.3716, -1.1234, -0.398, -1.2993, -0.3983], \"logprob\": [30.0, 29.0, 28.0, 27.0, 26.0, 25.0, 24.0, 23.0, 22.0, 21.0, 20.0, 19.0, 18.0, 17.0, 16.0, 15.0, 14.0, 13.0, 12.0, 11.0, 10.0, 9.0, 8.0, 7.0, 6.0, 5.0, 4.0, 3.0, 2.0, 1.0, -6.4811, -6.3182, -7.0243, -6.1191, -5.7907, -5.6049, -5.2873, -5.6592, -5.1889, -6.7726, -5.9458, -5.1827, -6.2077, -5.2454, -7.3594, -6.6653, -4.9567, -5.3571, -5.2713, -6.5057, -6.7867, -6.3784, -6.0887, -7.3256, -6.4543, -6.4501, -7.0181, -6.6242, -6.3491, -6.9992, -4.686, -5.426, -5.3227, -5.3129, -5.379, -4.895, -5.4089, -5.9693, -4.9436, -4.3254, -4.7909, -4.8842, -5.3597, -5.508, -4.0241, -5.6405, -4.9867, -5.4382, -4.4846, -5.4096, -4.6931, -5.1193, -5.3535, -5.0823, -4.9963, -4.7957, -5.0792, -5.1388, -5.1215, -5.3503, -5.3594, -5.9772, -6.109, -5.927, -5.7959, -5.9229, -6.2311, -6.0881, -6.3409, -5.7706, -5.9724, -6.3908, -6.4301, -5.4319, -6.473, -6.1337, -6.1366, -5.428, -5.9551, -5.8215, -4.1555, -6.5665, -6.569, -6.6836, -6.663, -4.8107, -5.9923, -5.0551, -6.1295, -6.4762, -6.5769, -4.0603, -4.0989, -5.6005, -5.4222, -5.2435, -5.6143, -5.4325, -4.6719, -5.7509, -5.4858, -5.0513, -5.0854, -5.5814, -4.926, -5.3307, -4.2731, -5.1244, -5.4799, -5.3217, -4.9487, -5.3708, -5.3306, -5.5971, -4.8803, -4.7652, -4.9593, -4.7634, -5.4239, -4.6512, -5.1359, -5.1661, -5.1975, -5.191, -5.3264, -5.2712, -5.3543, -5.381, -4.6338, -5.1058, -5.2022, -5.6604, -5.2897, -5.7812, -5.5953, -5.2687, -5.8871, -4.798, -6.0919, -5.664, -5.6838, -5.9734, -6.3757, -6.1092, -6.3792, -6.2273, -6.1452, -5.1019, -5.9923, -6.3518, -4.177, -6.0029, -5.9968, -6.1331, -6.5195, -5.9944, -4.9527, -6.152, -5.0383, -5.384, -4.7115, -5.6478, -5.1824, -4.68, -5.0493, -5.136, -5.6136, -4.8121, -5.1732, -4.7992, -4.6881, -5.3884, -4.9978, -5.2589, -5.5085, -5.3495, -5.3683, -5.3547, -5.4319, -5.4248, -5.5213, -4.1754, -3.9521, -4.5693, -5.1824, -4.5507, -5.2365, -5.2648, -4.9707, -5.4154, -5.4716, -3.9599, -5.7532, -5.4882, -5.1333, -4.6248, -5.4657, -4.6592, -4.6204, -6.2893, -5.6672, -4.6143, -4.6617, -4.2806, -5.8515, -5.3088, -5.6898, -5.3917, -5.653, -5.9565, -5.3717, -4.9643, -4.8687, -5.5334, -4.6664, -4.4335, -5.4366, -5.0722, -4.8263, -5.2832, -5.3348, -5.3387, -4.7454, -5.1697, -5.3856, -5.4707, -6.0952, -5.7903, -5.8024, -5.1146, -5.8766, -5.1936, -5.4612, -5.7888, -5.5996, -5.9672, -5.4942, -5.9359, -5.525, -5.6337, -6.2888, -5.5478, -6.3259, -4.8772, -6.0305, -6.2248, -5.9697, -6.2193, -6.2172, -6.4378, -6.2619, -6.2355, -5.5405, -5.6486, -4.882, -4.8795, -5.7584, -5.6248, -5.0979, -5.9933, -5.2991, -5.3214, -5.0806, -5.3165, -5.3582, -5.6337, -5.5559, -5.4798, -5.553, -5.5376, -5.6465, -4.6182, -4.1099, -4.831, -4.8256, -4.907, -5.3032, -5.4929, -5.4412, -5.4517, -5.632, -5.7018, -4.9079, -5.7317, -5.9681, -6.3338, -6.0755, -6.3701, -6.1416, -5.1428, -6.3755, -6.3096, -6.5268, -6.2889, -6.3209, -7.0021, -3.6625, -6.5821, -6.3224, -6.6288, -6.4028, -5.7536, -6.3688, -6.4171, -5.7597, -5.7034, -5.3135, -5.7979, -5.3632, -4.7578, -5.595, -5.9699, -5.3597, -5.9775, -5.4912, -5.6247, -5.6158, -5.7243, -5.7577, -5.7674, -5.745, -3.9373, -6.1697, -6.07, -6.4326, -6.1597, -6.7142, -6.1536, -6.2812, -6.6367, -6.6008, -6.8442, -6.9091, -6.7313, -6.7637, -6.6478, -6.618, -6.8801, -7.0472, -7.0098, -6.9342, -6.9927, -7.0047, -6.8617, -6.9721, -6.8718, -6.8133, -6.9194, -7.0498, -6.8405, -7.0261, -6.958, -6.7477, -6.8844, -6.6681, -6.0648, -6.5375, -6.7999, -6.5192, -6.7655, -6.0058, -6.546, -6.523, -5.6883, -6.5041, -6.5968, -5.9929, -6.0404, -5.7824, -6.5013, -6.0417, -6.0486, -6.1142, -5.9555, -6.3425, -6.1187, -6.4876, -6.2726, -6.2843, -6.2827, -6.3796, -6.3621, -6.294, -6.4212, -6.3961, -6.3063, -6.3577, -6.337, -6.3812, -6.381, -6.5511, -7.0525, -6.8173, -6.7469, -6.882, -6.7695, -6.8587, -7.0496, -6.9341, -6.9465, -6.8423, -6.8725, -7.0195, -6.9959, -6.9734, -6.9964, -7.0589, -6.8988, -6.8412, -6.8548, -6.9798, -6.9254, -6.9369, -6.6166, -6.8876, -6.9866, -7.1039, -6.9534, -6.8386, -7.0874, -6.4803, -6.8439, -6.7034, -6.3217, -6.7969, -6.4813, -6.5354, -6.4641, -6.3005, -5.6689, -5.6271, -6.1143, -5.8218, -5.9331, -5.6878, -5.7716, -6.2894, -5.8237, -5.8217, -6.0826, -5.787, -5.9494, -5.6658, -5.5445, -5.6638, -6.139, -6.0389, -5.8738, -6.1896, -5.8919, -6.13, -6.1361, -6.0669, -6.2125, -6.1566, -6.1766, -6.214, -6.2188, -6.1897, -6.2107, -6.9152, -6.8787, -6.8575, -6.8465, -6.8702, -6.7493, -6.8318, -6.8555, -6.6895, -6.7985, -6.6714, -7.049, -6.7729, -6.9721, -6.7598, -6.3257, -6.8321, -6.9515, -7.0431, -6.8714, -6.9703, -7.0073, -6.9487, -7.032, -6.9098, -6.9459, -7.0697, -6.9785, -6.9253, -6.9352, -6.6809, -6.7367, -6.8057, -6.8406, -6.9048, -6.5814, -6.8248, -6.8888, -6.7684, -6.5409, -6.742, -6.8734, -6.1404, -6.7598, -6.7112, -6.594, -5.6141, -6.6053, -6.0235, -6.4541, -6.2025, -5.8591, -5.9432, -5.8776, -6.3801, -6.3822, -5.9433, -6.1917, -6.4745, -6.2818, -6.1074, -6.1848, -6.29, -6.354, -6.1409, -6.2916, -6.4076, -6.2076, -6.0544, -6.3093, -6.2916, -6.2373, -6.2214, -6.2569, -6.325, -6.3627, -6.3078, -6.3282, -6.3274, -6.3477, -6.3316, -6.3305, -6.9904, -6.7112, -6.7912, -6.7516, -6.8279, -7.0962, -6.7776, -6.9416, -6.9047, -6.9047, -6.9123, -6.7791, -6.8355, -6.9727, -6.7228, -6.8007, -6.8456, -6.8815, -6.9232, -6.9788, -6.9553, -6.9507, -6.7713, -6.4602, -6.6259, -6.8614, -6.835, -6.7736, -6.8841, -6.9049, -6.8167, -6.8119, -6.6222, -6.4775, -6.7603, -6.5175, -6.747, -6.6671, -6.7577, -6.5488, -6.7495, -6.3569, -6.562, -6.5322, -6.6193, -6.4356, -6.0968, -6.6153, -6.2887, -6.1025, -6.1269, -6.1556, -6.3595, -6.4171, -6.3589, -6.4049, -6.4203, -6.3409, -6.5445, -6.4979, -6.4497, -6.3263, -6.5295, -6.3685, -6.4589, -6.5232, -6.5418, -6.501, -6.5414, -6.5243, -6.5446]}, \"token.table\": {\"Topic\": [1, 2, 3, 4, 1, 2, 3, 4, 1, 2, 3, 4, 5, 6, 1, 2, 3, 4, 6, 1, 2, 3, 4, 6, 1, 2, 3, 4, 5, 1, 2, 3, 4, 5, 6, 1, 2, 3, 1, 2, 3, 4, 5, 6, 1, 2, 3, 4, 6, 1, 2, 3, 4, 1, 2, 3, 4, 1, 2, 3, 4, 5, 1, 2, 3, 4, 5, 1, 2, 3, 4, 5, 1, 2, 3, 4, 5, 6, 1, 2, 3, 4, 6, 1, 2, 3, 4, 5, 1, 2, 3, 4, 5, 1, 2, 3, 4, 5, 1, 2, 3, 4, 5, 1, 2, 3, 4, 1, 2, 3, 4, 5, 6, 1, 2, 3, 4, 5, 6, 1, 2, 3, 4, 5, 6, 1, 2, 3, 4, 5, 1, 2, 3, 4, 5, 6, 1, 2, 3, 4, 5, 6, 1, 2, 3, 4, 5, 6, 1, 2, 3, 4, 5, 1, 2, 3, 4, 5, 6, 1, 2, 3, 4, 5, 1, 2, 3, 4, 5, 1, 2, 3, 4, 5, 1, 2, 3, 4, 1, 2, 3, 4, 5, 1, 2, 3, 4, 5, 1, 2, 3, 4, 1, 2, 3, 4, 6, 1, 2, 3, 1, 2, 3, 4, 5, 1, 2, 3, 4, 5, 1, 2, 3, 4, 5, 1, 2, 3, 4, 5, 1, 2, 3, 4, 1, 2, 3, 4, 5, 1, 2, 3, 4, 5, 1, 2, 3, 4, 5, 1, 2, 3, 4, 5, 1, 2, 3, 4, 5, 1, 2, 3, 4, 5, 6, 1, 2, 3, 4, 5, 1, 2, 3, 4, 5, 6, 1, 2, 3, 4, 5, 6, 1, 2, 3, 4, 5, 6, 1, 2, 3, 4, 5, 1, 2, 3, 4, 6, 1, 2, 3, 4, 5, 1, 2, 3, 4, 5, 1, 2, 3, 4, 1, 2, 3, 4, 5, 1, 2, 3, 4, 5, 1, 2, 3, 4, 1, 2, 3, 4, 5, 1, 2, 3, 4, 5, 1, 2, 3, 4, 5, 1, 2, 3, 4, 5, 6, 1, 2, 3, 4, 5, 6, 1, 2, 3, 4, 5, 6, 1, 2, 3, 4, 5, 1, 2, 3, 4, 5, 1, 2, 3, 4, 5, 1, 2, 3, 4, 6, 1, 2, 3, 4, 5, 6, 1, 2, 3, 4, 5, 6, 1, 2, 3, 4, 5, 1, 2, 3, 4, 5, 1, 2, 3, 4, 5, 1, 2, 3, 4, 5, 1, 2, 3, 4, 5, 6, 1, 2, 3, 4, 5, 1, 2, 3, 4, 5, 6, 1, 2, 3, 4, 5, 6, 1, 2, 3, 4, 5, 6, 1, 2, 3, 4, 1, 2, 3, 4, 6, 1, 2, 3, 4, 5, 6, 1, 2, 3, 4, 5, 6, 1, 2, 3, 4, 5, 1, 2, 3, 4, 5, 6, 1, 2, 3, 4, 5, 6, 1, 2, 3, 4, 1, 2, 3, 4, 1, 2, 3, 4, 5, 6, 1, 2, 3, 4, 5, 7, 1, 2, 3, 4, 5, 6, 1, 2, 3, 4, 5, 1, 2, 3, 4, 5, 1, 2, 3, 4, 1, 2, 3, 4, 6, 1, 2, 3, 4, 5, 6, 1, 2, 3, 4, 6, 1, 2, 3, 4, 5, 6, 1, 2, 3, 4, 5, 6, 1, 2, 3, 4, 5, 1, 2, 3, 4, 5, 6, 1, 2, 3, 4, 5, 6, 1, 2, 3, 4, 5, 6, 1, 2, 3, 4, 5, 6, 1, 2, 3, 4, 5, 1, 2, 3, 4, 5, 1, 2, 3, 4, 5, 6, 1, 2, 3, 4, 5, 1, 2, 3, 4, 1, 2, 3, 4, 5, 6, 1, 2, 3, 4, 5, 1, 2, 3, 4, 5, 6, 1, 2, 3, 4, 5, 6, 1, 2, 3, 4, 6, 1, 2, 3, 4, 5, 1, 2, 3, 4, 5, 6, 1, 2, 3, 4, 5, 6, 1, 2, 3, 4, 5, 6, 1, 2, 3, 4, 5, 1, 2, 3, 4, 5, 6, 1, 2, 3, 4, 5, 1, 2, 3, 4, 5, 6, 1, 2, 3, 4, 5, 1, 2, 3, 4, 5, 6, 1, 2, 3, 4, 5, 6, 1, 2, 3, 4, 1, 2, 3, 4, 5, 6, 1, 2, 3, 4, 5, 1, 2, 3, 4, 5, 1, 2, 3, 4, 5, 6, 1, 2, 3, 4, 1, 2, 3, 4, 1, 2, 3, 4, 5, 1, 2, 3, 4, 5, 1, 2, 3, 4, 5, 6, 1, 2, 3, 4, 5, 6, 1, 2, 3, 4, 5, 6, 1, 2, 3, 4, 5, 6, 1, 2, 3, 4, 1, 2, 3, 4, 5, 6, 1, 2, 3, 4, 5, 1, 2, 3, 4, 5, 6, 1, 2, 3, 4, 5, 1, 2, 3, 4, 1, 2, 3, 4, 5, 1, 2, 3, 4, 5, 1, 2, 3, 4, 5, 1, 2, 3, 4, 5, 1, 2, 3, 4, 5, 1, 2, 3, 4, 5, 1, 2, 3, 4, 1, 2, 3, 4, 5, 6, 1, 2, 3, 4, 5, 1, 2, 3, 4, 5, 1, 2, 3, 4, 5, 6, 1, 2, 3, 4, 6, 1, 2, 3, 4, 1, 2, 3, 4, 1, 2, 3, 4, 1, 2, 3, 4, 5, 6, 1, 2, 3, 4, 5, 6, 1, 2, 3, 4, 5, 1, 2, 3, 4, 5, 6, 1, 2, 3, 4, 6, 1, 2, 3, 4, 5, 1, 2, 3, 4, 5, 6, 1, 2, 3, 4, 5, 1, 2, 3, 4, 5, 1, 2, 3, 4, 5, 1, 2, 3, 4, 5, 6, 1, 2, 3, 4, 5, 6, 1, 2, 3, 4, 5, 6, 1, 2, 3, 4, 5, 6, 1, 2, 3, 4, 5, 6, 1, 2, 3, 4, 5, 6, 1, 2, 3, 4, 5, 6, 1, 2, 3, 4, 5, 6, 1, 2, 3, 4, 5, 1, 2, 3, 4, 5, 6, 1, 2, 3, 4, 5, 6, 1, 2, 3, 4, 1, 2, 3, 4, 5, 1, 2, 3, 4, 5, 6, 1, 2, 3, 4, 5, 6, 1, 2, 3, 4, 5, 1, 2, 3, 4, 5, 1, 2, 3, 4, 5, 1, 2, 3, 4, 5, 6, 1, 2, 3, 4, 5, 1, 2, 3, 4, 5, 1, 2, 3, 4, 1, 2, 3, 4, 5, 1, 2, 3, 4, 5, 1, 2, 3, 4, 5, 1, 2, 3, 4, 5, 1, 2, 3, 4, 1, 2, 3, 4, 5, 1, 2, 3, 4, 1, 2, 3, 4, 5, 1, 2, 3, 4, 5, 1, 2, 3, 4, 6, 1, 2, 3, 4, 5, 1, 2, 3, 4, 5, 6, 1, 2, 3, 4, 5, 6, 1, 2, 3, 4, 5, 6, 1, 2, 3, 4, 5, 6, 1, 2, 3, 4, 5, 6, 1, 2, 3, 4, 5, 1, 2, 3, 4, 1, 2, 3, 4, 1, 2, 3, 4, 5, 6, 1, 2, 3, 4, 5, 1, 2, 3, 4, 5, 1, 2, 3, 4, 5, 1, 2, 3, 4, 5, 6, 1, 2, 3, 4, 5, 1, 2, 3, 4, 5, 1, 2, 3, 4, 5, 1, 2, 3, 4, 5, 1, 2, 3, 4, 5, 1, 2, 3, 4, 5, 6, 1, 2, 3, 4, 1, 2, 3, 4, 5, 1, 2, 3, 4, 6, 1, 2, 3, 4, 1, 2, 3, 4, 5, 1, 2, 3, 4, 1, 2, 3, 4, 5, 1, 2, 3, 4, 5, 6, 1, 2, 3, 4, 5, 1, 2, 3, 4, 1, 2, 3, 4, 5, 1, 2, 3, 4, 1, 2, 3, 4, 1, 2, 3, 4, 5, 1, 2, 3, 4, 5, 1, 2, 3, 4, 5, 1, 2, 3, 4, 5, 6, 1, 2, 3, 4, 5, 1, 2, 3, 4, 5, 1, 2, 3, 4, 5, 1, 2, 3, 4, 5, 1, 2, 3, 4, 1, 2, 3, 4, 6, 1, 2, 3, 4, 5, 1, 2, 3, 4, 5, 1, 2, 3, 4, 5, 6, 1, 2, 3, 4, 1, 2, 3, 4, 5, 6, 1, 2, 3, 4, 5, 1, 2, 3, 4, 5, 6, 1, 2, 3, 4, 5, 1, 2, 3, 4, 5, 6, 1, 2, 3, 4, 5, 1, 2, 3, 4, 5, 1, 2, 3, 4, 5, 6, 1, 2, 3, 4, 5, 6, 1, 2, 3, 4, 5, 1, 2, 3, 4, 5, 6, 1, 2, 3, 4, 5, 6, 1, 2, 3, 4, 6, 1, 2, 3, 4, 5, 1, 2, 3, 4, 5, 1, 2, 3, 4, 1, 2, 3, 4, 5, 1, 2, 3, 4, 1, 2, 3, 4, 5, 6, 1, 2, 3, 4, 5, 1, 2, 3, 4, 5, 1, 2, 3, 4, 1, 2, 3, 4, 5, 1, 2, 3, 4, 5, 1, 2, 3, 4, 5, 6, 1, 2, 3, 4, 5, 1, 2, 3, 4, 5, 1, 2, 3, 4, 5, 1, 2, 3, 4, 5, 1, 2, 3, 4, 5, 6, 1, 2, 3, 4, 5, 1, 2, 3, 4, 5, 1, 2, 3, 4, 5, 1, 2, 3, 4, 5, 1, 2, 3, 4, 5, 6, 1, 2, 3, 4, 5, 6, 1, 2, 3, 4, 5, 6, 1, 2, 3, 4, 6, 1, 2, 3, 4, 5, 6, 1, 2, 3, 4, 5, 6, 1, 2, 3, 4, 5, 1, 2, 3, 4, 5, 1, 2, 3, 4, 5, 1, 2, 3, 4, 5, 6, 1, 2, 3, 4, 5, 6, 1, 2, 3, 4, 5, 1, 2, 3, 4, 1, 2, 3, 4, 5, 6, 1, 2, 3, 4, 5, 1, 2, 3, 4, 5, 6, 1, 2, 3, 4, 5, 1, 2, 3, 4, 5, 1, 2, 3, 4, 5, 6, 1, 2, 3, 4, 6, 1, 2, 3, 4, 5, 1, 2, 3, 4, 5, 1, 2, 3, 4, 1, 2, 3, 4, 5, 1, 2, 3, 4, 1, 2, 3, 4, 1, 2, 3, 4, 6, 1, 2, 3, 4, 5, 1, 2, 3, 4, 5, 1, 2, 3, 4, 5, 1, 2, 3, 4, 1, 2, 3, 4, 5, 1, 2, 3, 4, 6, 1, 2, 3, 4, 5, 1, 2, 3, 4, 5, 6, 1, 2, 3, 4, 5, 1, 2, 3, 4, 5, 6, 1, 2, 3, 4, 5, 6, 1, 2, 3, 4, 5, 6, 1, 2, 3, 4, 5, 6, 1, 2, 3, 4, 5, 1, 2, 3, 4, 5, 6, 1, 2, 3, 4, 5, 6, 1, 2, 3, 4, 5, 1, 2, 3, 4, 1, 2, 3, 4, 5, 1, 2, 3, 4, 5, 1, 2, 3, 4, 5, 6, 1, 2, 3, 4, 5, 6, 1, 2, 3, 4, 6, 1, 2, 3, 4, 5, 6, 1, 2, 3, 4, 5, 1, 2, 3, 4, 1, 2, 3, 4, 5, 1, 2, 3, 4, 1, 2, 3, 4, 5, 1, 2, 3, 4, 6, 1, 2, 3, 4, 5, 6, 1, 2, 3, 4, 5, 6, 1, 2, 3, 4, 5, 6, 1, 2, 3, 4], \"Freq\": [0.67468227234254, 0.202404681702762, 0.033734113617127, 0.033734113617127, 0.6657548750889987, 0.19581025737911725, 0.03916205147582345, 0.03916205147582345, 0.7943789763602396, 0.04863544753225957, 0.016211815844086524, 0.04863544753225957, 0.016211815844086524, 0.0648472633763461, 0.8151777927776173, 0.06270598405981671, 0.03135299202990836, 0.03135299202990836, 0.03135299202990836, 0.674273183355791, 0.11237886389263184, 0.08428414791947388, 0.08428414791947388, 0.02809471597315796, 0.26073278991463095, 0.5540571785685908, 0.14123026120375842, 0.010863866246442956, 0.010863866246442956, 0.6201525622282472, 0.20671752074274904, 0.10335876037137452, 0.02583969009284363, 0.02583969009284363, 0.02583969009284363, 0.18070899840340993, 0.7885483566694251, 0.016428090763946357, 0.20777807772252307, 0.54022300207856, 0.20777807772252307, 0.02077780777225231, 0.02077780777225231, 0.02077780777225231, 0.3729324475188205, 0.4102256922707025, 0.07458648950376409, 0.07458648950376409, 0.07458648950376409, 0.9219799011844869, 0.02974128713498345, 0.014870643567491725, 0.02974128713498345, 0.7853675837281446, 0.07853675837281446, 0.05235783891520964, 0.07853675837281446, 0.4243679369111639, 0.1958621247282295, 0.29379318709234425, 0.03264368745470492, 0.03264368745470492, 0.20261298101089684, 0.7644035192683836, 0.009209680955040767, 0.009209680955040767, 0.009209680955040767, 0.216464880242306, 0.7305689708177827, 0.02705811003028825, 0.02705811003028825, 0.02705811003028825, 0.43175929716806083, 0.43175929716806083, 0.03321225362831237, 0.03321225362831237, 0.03321225362831237, 0.03321225362831237, 0.6082367778662026, 0.15205919446655064, 0.060823677786620255, 0.09123551667993039, 0.060823677786620255, 0.8087158715536695, 0.08985731906151884, 0.059904879374345896, 0.029952439687172948, 0.029952439687172948, 0.7376169534378666, 0.09220211917973332, 0.030734039726577775, 0.030734039726577775, 0.06146807945315555, 0.7219064742140875, 0.13125572258437956, 0.03281393064609489, 0.03281393064609489, 0.06562786129218978, 0.3577820808927018, 0.32796690748497664, 0.059630346815450305, 0.23852138726180122, 0.029815173407725153, 0.508551849391633, 0.3589777760411527, 0.05982962934019213, 0.029914814670096063, 0.9345745717006487, 0.03945433548076617, 0.02219306370793097, 0.0024658959675478856, 0.0024658959675478856, 0.0024658959675478856, 0.7345087744497594, 0.18362719361243984, 0.02448362581499198, 0.026232456230348547, 0.00524649124606971, 0.02448362581499198, 0.5537154828133158, 0.05828584029613851, 0.029142920148069254, 0.2040004410364848, 0.029142920148069254, 0.11657168059227702, 0.3960620960732022, 0.27724346725124155, 0.27724346725124155, 0.03960620960732022, 0.03960620960732022, 0.687347117730689, 0.12310694645922789, 0.010258912204935657, 0.15388368307403485, 0.010258912204935657, 0.010258912204935657, 0.6916960972995134, 0.11705626261991765, 0.010641478419992514, 0.1596221762998877, 0.010641478419992514, 0.010641478419992514, 0.658221458512835, 0.27060215516638775, 0.03656785880626861, 0.014627143522507444, 0.014627143522507444, 0.007313571761253722, 0.3869963344552627, 0.5471327487126127, 0.013344701188112507, 0.013344701188112507, 0.04003410356433752, 0.9425271377922838, 0.03420461387149417, 0.011401537957164724, 0.0038005126523882413, 0.0038005126523882413, 0.0038005126523882413, 0.4553245252492215, 0.14228891414038172, 0.34149339393691613, 0.028457782828076345, 0.028457782828076345, 0.9327977709815795, 0.03634277029798361, 0.012114256765994539, 0.012114256765994539, 0.012114256765994539, 0.23576738202847708, 0.21219064382562935, 0.49511150225980183, 0.023576738202847707, 0.023576738202847707, 0.8002612597994888, 0.0923378376691718, 0.06155855844611453, 0.030779279223057263, 0.47681633775303733, 0.4427580279135347, 0.03405830983950267, 0.03405830983950267, 0.03405830983950267, 0.5365526125369412, 0.14904239237137257, 0.2682763062684706, 0.02980847847427451, 0.02980847847427451, 0.8172450227877464, 0.09080500253197182, 0.06053666835464788, 0.03026833417732394, 0.7643542181859473, 0.09554427727324341, 0.03184809242441447, 0.03184809242441447, 0.03184809242441447, 0.17117531781097572, 0.7797986700277783, 0.01901947975677508, 0.562688664253147, 0.3047896931371213, 0.10941168471588969, 0.007815120336849264, 0.015630240673698528, 0.563298687609676, 0.3168555117804428, 0.0704123359512095, 0.03520616797560475, 0.03520616797560475, 0.33706315140357207, 0.6291845492866678, 0.014980584506825425, 0.007490292253412713, 0.007490292253412713, 0.15039281249483163, 0.7707631640360121, 0.03759820312370791, 0.018799101561853954, 0.018799101561853954, 0.03616066669564659, 0.03616066669564659, 0.03616066669564659, 0.8678560006955182, 0.8773993941127608, 0.03374613054279849, 0.03374613054279849, 0.03374613054279849, 0.03374613054279849, 0.13358204606199492, 0.7747758671595705, 0.026716409212398984, 0.026716409212398984, 0.026716409212398984, 0.7248310741165105, 0.14093937552265481, 0.0201341965032364, 0.11073808076780021, 0.0100670982516182, 0.6478321795206309, 0.16718249794080797, 0.06269343672780299, 0.020897812242600997, 0.08359124897040399, 0.5955573040929166, 0.2770033972525193, 0.06925084931312983, 0.013850169862625966, 0.0415505095878779, 0.6383297476460406, 0.13876733644479144, 0.05550693457791658, 0.02775346728895829, 0.02775346728895829, 0.11101386915583315, 0.6919610231972269, 0.15376911626605042, 0.05125637208868347, 0.025628186044341736, 0.05125637208868347, 0.7665662206975558, 0.1699284725684237, 0.04153807107228135, 0.007552376558596609, 0.007552376558596609, 0.0037761882792983043, 0.7424671180797834, 0.10865372459704147, 0.07243581639802764, 0.01810895409950691, 0.03621790819901382, 0.01810895409950691, 0.28608267346551813, 0.05721653469310363, 0.11443306938620726, 0.1716496040793109, 0.05721653469310363, 0.28608267346551813, 0.6967842120272532, 0.11613070200454219, 0.11613070200454219, 0.03871023400151406, 0.03871023400151406, 0.7283776830167893, 0.07283776830167893, 0.07283776830167893, 0.036418884150839465, 0.07283776830167893, 0.7422820678568275, 0.1172024317668675, 0.0390674772556225, 0.0390674772556225, 0.078134954511245, 0.37100401248109527, 0.5888952579065004, 0.03533371547439002, 0.005888952579065004, 0.005888952579065004, 0.3580310092981289, 0.5533206507334719, 0.06509654714511434, 0.03254827357255717, 0.46637109881222544, 0.44046159332265733, 0.02590950548956808, 0.02590950548956808, 0.02590950548956808, 0.6929758207061657, 0.0629978018823787, 0.15749450470594675, 0.03149890094118935, 0.03149890094118935, 0.8423696439433408, 0.035098735164305866, 0.035098735164305866, 0.035098735164305866, 0.4250002649073306, 0.5100003178887967, 0.04250002649073306, 0.014166675496911021, 0.014166675496911021, 0.39490953516373495, 0.5150993936918282, 0.05150993936918282, 0.017169979789727608, 0.017169979789727608, 0.15001540129326593, 0.8046280614820627, 0.013637763753933265, 0.013637763753933265, 0.013637763753933265, 0.7792714961145242, 0.12245694938942524, 0.06122847469471262, 0.022264899888986407, 0.005566224972246602, 0.005566224972246602, 0.897862016237272, 0.08178545098398914, 0.012445612106259217, 0.003555889173216919, 0.0017779445866084596, 0.0017779445866084596, 0.481970201883847, 0.4847086689400052, 0.02190773644926577, 0.005476934112316443, 0.005476934112316443, 0.0027384670561582214, 0.2236116842841523, 0.7366031952889722, 0.013153628487303075, 0.013153628487303075, 0.013153628487303075, 0.257584195405365, 0.6697189080539488, 0.025758419540536495, 0.025758419540536495, 0.025758419540536495, 0.9253490666968546, 0.04324061059331096, 0.017296244237324385, 0.008648122118662192, 0.008648122118662192, 0.4774358088275744, 0.2785042218160851, 0.07957263480459574, 0.03978631740229787, 0.07957263480459574, 0.8515716801412833, 0.11705452647990149, 0.0234109052959803, 0.0029263631619975373, 0.0029263631619975373, 0.0029263631619975373, 0.8085647397308736, 0.0521654670794112, 0.1043309341588224, 0.0260827335397056, 0.0260827335397056, 0.0260827335397056, 0.8167649293193258, 0.08167649293193258, 0.027225497643977522, 0.027225497643977522, 0.027225497643977522, 0.867086727010246, 0.051005101588838, 0.034003401059225336, 0.034003401059225336, 0.017001700529612668, 0.9165411870664056, 0.038836490977390066, 0.02330189458643404, 0.007767298195478014, 0.007767298195478014, 0.7852270378154999, 0.10707641424756816, 0.07138427616504545, 0.03569213808252272, 0.03569213808252272, 0.9102615453423786, 0.05853771995770923, 0.020488201985198233, 0.0029268859978854615, 0.0029268859978854615, 0.0029268859978854615, 0.7438774937400965, 0.11158162406101448, 0.03719387468700483, 0.03719387468700483, 0.03719387468700483, 0.590983719208195, 0.37710389701856256, 0.016885249120234144, 0.011256832746822763, 0.0028142081867056907, 0.0028142081867056907, 0.7923506791261988, 0.06095005224047683, 0.08126673632063577, 0.020316684080158944, 0.020316684080158944, 0.020316684080158944, 0.6885451152844461, 0.054358824890877316, 0.09059804148479553, 0.12683725807871374, 0.03623921659391821, 0.018119608296959105, 0.7021761991124991, 0.1080271075557691, 0.018004517925961517, 0.14403614340769214, 0.5073109976666248, 0.020292439906664992, 0.10146219953332496, 0.32467903850663987, 0.020292439906664992, 0.6090066701388352, 0.024857415107707562, 0.16778755197702605, 0.18643061330780672, 0.006214353776926891, 0.006214353776926891, 0.8738448645087261, 0.060496952158296424, 0.040331301438864285, 0.0067218835731440475, 0.013443767146288095, 0.0067218835731440475, 0.8233963876155663, 0.1349830143632076, 0.01349830143632076, 0.01349830143632076, 0.01349830143632076, 0.8833189344272735, 0.07433016473654161, 0.03457216964490307, 0.0017286084822451535, 0.003457216964490307, 0.0017286084822451535, 0.5852210757248592, 0.24216044512752793, 0.04036007418792132, 0.060540111281881984, 0.08072014837584264, 0.02018003709396066, 0.253117208399656, 0.6997946349872842, 0.014889247552920941, 0.014889247552920941, 0.14830511891958104, 0.7909606342377655, 0.024717519819930173, 0.024717519819930173, 0.8933114955793237, 0.019726121353486642, 0.06481439873288468, 0.01127206934484951, 0.005636034672424755, 0.005636034672424755, 0.5080981131579839, 0.1016196226315968, 0.1016196226315968, 0.0508098113157984, 0.1016196226315968, 0.1016196226315968, 0.166370170001967, 0.573052807784553, 0.055456723333988996, 0.166370170001967, 0.018485574444663, 0.018485574444663, 0.4688773773072785, 0.19306715536182056, 0.30339124414000374, 0.027581022194545793, 0.027581022194545793, 0.39761488426209873, 0.503645520065325, 0.026507658950806583, 0.026507658950806583, 0.026507658950806583, 0.7900579149065272, 0.10973026595923989, 0.06583815957554394, 0.02194605319184798, 0.8503703362869455, 0.02882611309447273, 0.05765222618894546, 0.043239169641709096, 0.014413056547236364, 0.8324826911798963, 0.1248379180642595, 0.024139928907453496, 0.013104532835474756, 0.0027588490179946855, 0.0034485612724933566, 0.43151186401362784, 0.331932203087406, 0.0663864406174812, 0.1327728812349624, 0.0331932203087406, 0.7499442533470507, 0.19884885505414224, 0.03408837515213867, 0.009468993097816297, 0.0037875972391265187, 0.0037875972391265187, 0.766839840178768, 0.05288550621922538, 0.02644275310961269, 0.05288550621922538, 0.05288550621922538, 0.02644275310961269, 0.5256127141127253, 0.34010234442588105, 0.03091839494780737, 0.03091839494780737, 0.03091839494780737, 0.9123894233991551, 0.052722342283097245, 0.026361171141548623, 0.0029290190157276247, 0.0043935285235914365, 0.0014645095078638123, 0.8833037595773099, 0.08344937479072624, 0.023617747582281013, 0.001574516505485401, 0.006298066021941604, 0.001574516505485401, 0.9132456196679817, 0.0658195041202149, 0.010969917353369149, 0.0054849586766845745, 0.0027424793383422873, 0.0027424793383422873, 0.8970249842446807, 0.04485124921223403, 0.03737604101019503, 0.011212812303058508, 0.007475208202039006, 0.003737604101019503, 0.8827922496704479, 0.031528294631087424, 0.031528294631087424, 0.031528294631087424, 0.031528294631087424, 0.4503819447362098, 0.4584244794636421, 0.024127604182296952, 0.008042534727432318, 0.056297743092026224, 0.9266318545108341, 0.04370904974107708, 0.02039755654583597, 0.002913936649405139, 0.002913936649405139, 0.002913936649405139, 0.181747181016501, 0.7421343224840458, 0.04543679525412525, 0.01514559841804175, 0.01514559841804175, 0.8238252653644212, 0.0659060212291537, 0.0659060212291537, 0.03295301061457685, 0.746905125086557, 0.2096989152451217, 0.030630178631309908, 0.002356167587023839, 0.004712335174047678, 0.002356167587023839, 0.6791259697800569, 0.28258932970713774, 0.03190524690241878, 0.004557892414631254, 0.004557892414631254, 0.7433738899019933, 0.19392362345269387, 0.044440830374575684, 0.00808015097719558, 0.00404007548859779, 0.00404007548859779, 0.7075081183258339, 0.22421031918776427, 0.04982451537505873, 0.009964903075011746, 0.004982451537505873, 0.004982451537505873, 0.8082327563268686, 0.052144048795281846, 0.07821607319292277, 0.026072024397640923, 0.026072024397640923, 0.8283681101514763, 0.031860311928902936, 0.06372062385780587, 0.031860311928902936, 0.031860311928902936, 0.7611159762708808, 0.19618263827507187, 0.03269710637917865, 0.0018165059099543694, 0.005449517729863108, 0.0018165059099543694, 0.8287509667002346, 0.08380627753148441, 0.027935425843828136, 0.027935425843828136, 0.009311808614609379, 0.027935425843828136, 0.6255801942094501, 0.06255801942094501, 0.06255801942094501, 0.09383702913141752, 0.031279009710472504, 0.12511603884189001, 0.24790602217914573, 0.5867109191573116, 0.14874361330748745, 0.008263534072638192, 0.008263534072638192, 0.8026809275611139, 0.12161832235774453, 0.024323664471548906, 0.024323664471548906, 0.024323664471548906, 0.024323664471548906, 0.6670998926571652, 0.12828844089560867, 0.025657688179121736, 0.12828844089560867, 0.025657688179121736, 0.8569840008909881, 0.06975451170042926, 0.009964930242918467, 0.009964930242918467, 0.029894790728755397, 0.019929860485836934, 0.515649081349796, 0.16114033792181126, 0.03222806758436225, 0.03222806758436225, 0.257824540674898, 0.8738924474968537, 0.08649447432562715, 0.02386054464155232, 0.00298256808019404, 0.00596513616038808, 0.00298256808019404, 0.8267678763584356, 0.03374562760646676, 0.0843640690161669, 0.01687281380323338, 0.01687281380323338, 0.01687281380323338, 0.5663787573137035, 0.3236450041792591, 0.060683438283611085, 0.020227812761203695, 0.6491616715458383, 0.22669137736521336, 0.020608307033201212, 0.07212907461620424, 0.010304153516600606, 0.020608307033201212, 0.38563006571193403, 0.5675310401043557, 0.021828116927090604, 0.007276038975696868, 0.014552077951393736, 0.5996940369884304, 0.3648138725012951, 0.019989801232947677, 0.004997450308236919, 0.004997450308236919, 0.2968826278251889, 0.6768093473497314, 0.01660881833987071, 0.0020761022924838386, 0.006228306877451516, 0.0020761022924838386, 0.043168196706155126, 0.9065321308292577, 0.021584098353077563, 0.021584098353077563, 0.21549504722875365, 0.7272957843970436, 0.05387376180718841, 0.026936880903594206, 0.5301800496893148, 0.29822627795023954, 0.03313625310558217, 0.03313625310558217, 0.09940875931674652, 0.8284142811942321, 0.045186233519685384, 0.03012415567979026, 0.01506207783989513, 0.09037246703937077, 0.9174643780969348, 0.04772936071024516, 0.015909786903415053, 0.005303262301138352, 0.015909786903415053, 0.005303262301138352, 0.8699886632410173, 0.09157775402537024, 0.026710178257399655, 0.0038157397510570935, 0.0038157397510570935, 0.0038157397510570935, 0.8728205683035081, 0.0948080572513329, 0.02541246895396552, 0.000977402652075597, 0.003909610608302388, 0.001954805304151194, 0.7559325441830699, 0.09071190530196839, 0.060474603534645587, 0.030237301767322793, 0.030237301767322793, 0.060474603534645587, 0.6358775418651735, 0.07948469273314669, 0.039742346366573346, 0.21858290501615338, 0.901215083001564, 0.05149800474294652, 0.02574900237147326, 0.01287450118573663, 0.006437250592868315, 0.006437250592868315, 0.25495515111210415, 0.7011266655582863, 0.028972176262739104, 0.011588870505095642, 0.011588870505095642, 0.9134352828044923, 0.04164598553819874, 0.030540389394679075, 0.005552798071759832, 0.005552798071759832, 0.002776399035879916, 0.12825510102705787, 0.7695306061623471, 0.025651020205411573, 0.025651020205411573, 0.025651020205411573, 0.8707610659913917, 0.033490810230438144, 0.033490810230438144, 0.033490810230438144, 0.600820901107239, 0.07510261263840487, 0.07510261263840487, 0.1126539189576073, 0.15020522527680974, 0.6986220559491648, 0.23637588359182268, 0.02101118965260646, 0.005252797413151615, 0.03676958189206131, 0.49574836830660013, 0.22880693921843082, 0.07626897973947694, 0.03813448986973847, 0.15253795947895388, 0.6251040287885364, 0.2315200106624209, 0.04630400213248418, 0.02315200106624209, 0.06945600319872626, 0.22178014863362688, 0.6653404459008806, 0.049284477474139304, 0.024642238737069652, 0.024642238737069652, 0.592519174420632, 0.19169737995961622, 0.08713517270891646, 0.034854069083566586, 0.06970813816713317, 0.7741022763883867, 0.11468181872420544, 0.08601136404315407, 0.02867045468105136, 0.8909524152126257, 0.07594396886427786, 0.020375211158708696, 0.0037045838470379446, 0.0037045838470379446, 0.0037045838470379446, 0.18907385696673165, 0.7846565064119364, 0.009453692848336583, 0.009453692848336583, 0.009453692848336583, 0.5279119534505792, 0.37850291002117, 0.07968482316235158, 0.009960602895293947, 0.004980301447646974, 0.06937109582144295, 0.8844814717233976, 0.017342773955360737, 0.017342773955360737, 0.017342773955360737, 0.017342773955360737, 0.39158173905574895, 0.11747452171672468, 0.07831634781114978, 0.35242356515017403, 0.03915817390557489, 0.550329658864792, 0.12630516760831292, 0.28869752596185816, 0.0270653930589242, 0.9142293035288245, 0.020777938716564193, 0.020777938716564193, 0.020777938716564193, 0.9365537188918942, 0.042330111588334204, 0.015873791845625325, 0.0052912639485417755, 0.9154591079958639, 0.052400016282591534, 0.01232941559590389, 0.01232941559590389, 0.0030823538989759726, 0.0030823538989759726, 0.8331275884638275, 0.11491415013294172, 0.03656359322411782, 0.00783505569088239, 0.00522337046058826, 0.00261168523029413, 0.38244767287335024, 0.19122383643667512, 0.3551299819538252, 0.027317690919525017, 0.054635381839050035, 0.7077354072926959, 0.12581962796314594, 0.04718236048617973, 0.09436472097235946, 0.015727453495393243, 0.015727453495393243, 0.7690879275266788, 0.16363572926099548, 0.032727145852199095, 0.032727145852199095, 0.016363572926099548, 0.42786184433567986, 0.4889849649550627, 0.03056156030969142, 0.03056156030969142, 0.03056156030969142, 0.6592544656649763, 0.07911053587979715, 0.026370178626599048, 0.1582210717595943, 0.026370178626599048, 0.026370178626599048, 0.7750248807666249, 0.06739346789274998, 0.06739346789274998, 0.06739346789274998, 0.03369673394637499, 0.4194557995876321, 0.552283469457049, 0.013981859986254404, 0.006990929993127202, 0.006990929993127202, 0.3749966775021827, 0.2343729234388642, 0.32812209281440985, 0.023437292343886418, 0.023437292343886418, 0.7836000933831585, 0.13510346437640663, 0.02702069287528133, 0.02702069287528133, 0.02702069287528133, 0.02702069287528133, 0.6806223590276264, 0.11883882459212523, 0.010803529508375022, 0.1620529426256253, 0.010803529508375022, 0.021607059016750044, 0.6742633304993443, 0.12158846943430798, 0.02210699444260145, 0.16580245831951088, 0.011053497221300725, 0.011053497221300725, 0.6772402860765492, 0.1128733810127582, 0.01128733810127582, 0.1693100715191373, 0.01128733810127582, 0.01128733810127582, 0.6382301744314909, 0.19146905232944728, 0.03191150872157455, 0.0638230174431491, 0.03191150872157455, 0.03191150872157455, 0.7377056307935036, 0.02732243077012976, 0.08196729231038928, 0.10928972308051904, 0.02732243077012976, 0.02732243077012976, 0.6220412794739977, 0.19905320943167926, 0.09952660471583963, 0.049763302357919814, 0.024881651178959907, 0.024881651178959907, 0.7062648396718366, 0.09212150082676131, 0.10747508429788818, 0.06141433388450754, 0.010235722314084589, 0.015353583471126885, 0.5298762106448575, 0.10597524212897148, 0.27553562953532584, 0.06358514527738289, 0.021195048425794297, 0.7192716308243079, 0.1209684106386336, 0.11116016112739303, 0.03269416503746854, 0.003269416503746854, 0.006538833007493708, 0.6344322357151795, 0.14640743901119527, 0.07320371950559763, 0.12200619917599606, 0.024401239835199214, 0.024401239835199214, 0.7726164512383834, 0.06438470426986528, 0.06438470426986528, 0.06438470426986528, 0.9227907092303731, 0.02428396603237824, 0.02428396603237824, 0.01214198301618912, 0.01214198301618912, 0.927906829595637, 0.050790689619971706, 0.015627904498452833, 0.001953488062306604, 0.001953488062306604, 0.001953488062306604, 0.7949606643290413, 0.17516082434368707, 0.013473909564899005, 0.002694781912979801, 0.013473909564899005, 0.002694781912979801, 0.6972723922683479, 0.14679418784596798, 0.036698546961491996, 0.036698546961491996, 0.07339709392298399, 0.6617296497696685, 0.11677582054758857, 0.17516373082138287, 0.019462636757931428, 0.019462636757931428, 0.5332923478150411, 0.3137013810676712, 0.0784253452669178, 0.03137013810676712, 0.03137013810676712, 0.7740317944439831, 0.10096066884051953, 0.06730711256034635, 0.03365355628017318, 0.03365355628017318, 0.03365355628017318, 0.5548824320193143, 0.08220480474360212, 0.2671656154167069, 0.061653603557701595, 0.02055120118590053, 0.37573370865809114, 0.2504891391053941, 0.12524456955269705, 0.041748189850899016, 0.2087409492544951, 0.949481402426716, 0.01843653208595565, 0.009218266042977825, 0.009218266042977825, 0.8124014376251044, 0.06770011980209203, 0.03385005990104602, 0.03385005990104602, 0.03385005990104602, 0.6115584966068183, 0.15288962415170457, 0.18346754898204545, 0.03057792483034091, 0.03057792483034091, 0.053484275435737, 0.8914045905956166, 0.017828091811912333, 0.017828091811912333, 0.017828091811912333, 0.8361760740796153, 0.12864247293532544, 0.02270161287093978, 0.0037836021451566303, 0.0037836021451566303, 0.9303784609890728, 0.04104610857304733, 0.013682036191015776, 0.006841018095507888, 0.4072341469388442, 0.38952831446324226, 0.1770583247560192, 0.017705832475601924, 0.017705832475601924, 0.6209712202844739, 0.25403368102546664, 0.05645192911677036, 0.02822596455838518, 0.8400549979411462, 0.0672043998352917, 0.0672043998352917, 0.03360219991764585, 0.03360219991764585, 0.45540352765784226, 0.49290734758260574, 0.03750381992476348, 0.005357688560680497, 0.005357688560680497, 0.5453453852057846, 0.25449451309603277, 0.07271271802743794, 0.03635635901371897, 0.10906907704115691, 0.8641011393516859, 0.03600421413965357, 0.05400632120948037, 0.018002107069826787, 0.018002107069826787, 0.7542010250951483, 0.1964827913273768, 0.037832090255581874, 0.0036611700247337294, 0.004881560032978306, 0.0012203900082445765, 0.7634481317765082, 0.18709005600847234, 0.03621097858228497, 0.0030175815485237473, 0.006035163097047495, 0.0030175815485237473, 0.7758492983984207, 0.16801831939838408, 0.02965029165853837, 0.009883430552846123, 0.009883430552846123, 0.004941715276423062, 0.6707815738134719, 0.24200746976799772, 0.05787135146626032, 0.015783095854434635, 0.013152579878695527, 0.0026305159757391058, 0.9008763005828184, 0.07233313362343798, 0.01972721826093763, 0.0032878697101562716, 0.0032878697101562716, 0.0032878697101562716, 0.19657910688666594, 0.08424818866571397, 0.22466183644190393, 0.44932367288380787, 0.02808272955523799, 0.9484636334303435, 0.03182763870571623, 0.01273105548228649, 0.006365527741143245, 0.7646108192324645, 0.12743513653874408, 0.03185878413468602, 0.03185878413468602, 0.3245873826362434, 0.6330461996756548, 0.030241060494059946, 0.0020160706996039963, 0.010080353498019981, 0.0020160706996039963, 0.3696450150529125, 0.5544675225793687, 0.054359561037193006, 0.010871912207438602, 0.010871912207438602, 0.06999140840066762, 0.8632273702749006, 0.023330469466889207, 0.023330469466889207, 0.023330469466889207, 0.5811253254036104, 0.3076545840372055, 0.06836768534160123, 0.034183842670800615, 0.034183842670800615, 0.5321664418300064, 0.2409810302626444, 0.19747056646522249, 0.010040876260943516, 0.02008175252188703, 0.0033469587536478387, 0.5938330057285114, 0.163816001580279, 0.163816001580279, 0.020477000197534876, 0.04095400039506975, 0.4861473646152258, 0.28596903800895634, 0.14298451900447817, 0.028596903800895634, 0.05719380760179127, 0.9127279973456957, 0.039257118165406266, 0.0294428386240547, 0.009814279541351566, 0.009814279541351566, 0.6965199670971396, 0.06056695366062083, 0.15141738415155206, 0.030283476830310414, 0.030283476830310414, 0.1540908542824977, 0.04402595836642791, 0.11006489591606979, 0.6603893754964186, 0.022012979183213956, 0.8045527429473756, 0.15987907071390156, 0.023208252200405063, 0.002578694688933896, 0.005157389377867792, 0.005157389377867792, 0.019273224572802332, 0.9251147794945119, 0.019273224572802332, 0.019273224572802332, 0.6814752004920008, 0.11357920008200015, 0.0851844000615001, 0.028394800020500037, 0.0851844000615001, 0.6615401050717082, 0.10445370080079604, 0.10445370080079604, 0.03481790026693201, 0.06963580053386402, 0.8615803623189768, 0.06154145445135549, 0.030770727225677745, 0.030770727225677745, 0.48478722937365437, 0.10206046934182197, 0.20412093868364395, 0.17860582134818845, 0.025515117335455494, 0.9153569729639933, 0.03051189909879978, 0.03051189909879978, 0.01525594954939989, 0.8209098792291337, 0.05863641994493812, 0.019545473314979373, 0.019545473314979373, 0.07818189325991749, 0.9276972013645408, 0.01871435276527892, 0.04010218449702626, 0.005346957932936835, 0.005346957932936835, 0.0026734789664684174, 0.4841733061069074, 0.47630056942224225, 0.031490946738660645, 0.003936368342332581, 0.003936368342332581, 0.8444061562760673, 0.05823490732938395, 0.029117453664691977, 0.029117453664691977, 0.41147840797326934, 0.3740712799756994, 0.1309249479914948, 0.03740712799756994, 0.03740712799756994, 0.6521477180916191, 0.21738257269720637, 0.07246085756573545, 0.036230428782867724, 0.26921921523007375, 0.6517938895043891, 0.028338864761060397, 0.042508297141590594, 0.543288493564404, 0.42061044663050634, 0.0175254352762711, 0.0175254352762711, 0.0175254352762711, 0.5957019833243294, 0.25760085765376406, 0.08050026801680128, 0.016100053603360254, 0.03220010720672051, 0.3330621981046, 0.6211159910599298, 0.027005043089562163, 0.009001681029854054, 0.009001681029854054, 0.5507772739611332, 0.42328253461827825, 0.015299368721142589, 0.005099789573714196, 0.005099789573714196, 0.005099789573714196, 0.31576293665538957, 0.6315258733107791, 0.031576293665538956, 0.010525431221846319, 0.010525431221846319, 0.07364757980875629, 0.8101233778963193, 0.04909838653917086, 0.02454919326958543, 0.02454919326958543, 0.3658192969347567, 0.27038817599525494, 0.3181037364650058, 0.01590518682325029, 0.01590518682325029, 0.8303796436234971, 0.14100786401153725, 0.01253403235658109, 0.0031335080891452725, 0.01253403235658109, 0.7538121110956607, 0.1130718166643491, 0.07538121110956607, 0.037690605554783034, 0.6587131026999848, 0.09880696540499773, 0.06587131026999848, 0.13174262053999697, 0.03293565513499924, 0.6842637578922921, 0.1986572200332461, 0.022073024448138457, 0.022073024448138457, 0.044146048896276914, 0.6586579155007116, 0.24394737611137468, 0.04878947522227493, 0.024394737611137467, 0.04878947522227493, 0.5337088134753007, 0.43265152334979995, 0.022106282214953282, 0.0031580403164218978, 0.0031580403164218978, 0.0031580403164218978, 0.91742027148613, 0.04475220836517707, 0.022376104182588535, 0.022376104182588535, 0.3674562097033485, 0.46210402129360495, 0.13918795822096536, 0.005567518328838614, 0.016702554986515843, 0.005567518328838614, 0.09874403390542807, 0.8491986915866815, 0.019748806781085617, 0.019748806781085617, 0.019748806781085617, 0.8480704783729476, 0.13198447842227992, 0.014040901959817014, 0.0028081803919634027, 0.0028081803919634027, 0.0028081803919634027, 0.8748834145459592, 0.033649362097921506, 0.033649362097921506, 0.033649362097921506, 0.033649362097921506, 0.7016870779460646, 0.2732886514105725, 0.017234419458324393, 0.0024620599226177703, 0.0024620599226177703, 0.0024620599226177703, 0.6971633075142091, 0.15210835800310016, 0.08872987550180843, 0.012675696500258347, 0.05070278600103339, 0.7041104225054187, 0.12802007681916702, 0.06401003840958351, 0.032005019204791756, 0.09601505761437527, 0.7861586829046541, 0.1663226648457941, 0.0330579209631392, 0.0061983601805886005, 0.0061983601805886005, 0.0010330600300981, 0.46646307492060385, 0.3331879106575742, 0.09995637319727226, 0.03331879106575742, 0.03331879106575742, 0.03331879106575742, 0.3328137406914408, 0.2403654793882628, 0.3513033929520764, 0.0369793045212712, 0.0184896522606356, 0.5770494744591737, 0.0923279159134678, 0.06924593693510084, 0.0461639579567339, 0.02308197897836695, 0.20773781080530254, 0.7277383132934767, 0.2298120989347821, 0.02393876030570647, 0.009575504122282589, 0.0047877520611412944, 0.0047877520611412944, 0.8285893993070153, 0.03452455830445897, 0.06904911660891794, 0.03452455830445897, 0.03452455830445897, 0.24897204507081633, 0.37345806760622446, 0.06224301126770408, 0.24897204507081633, 0.03112150563385204, 0.6993087742654785, 0.14397533587818676, 0.12340743075273151, 0.02056790512545525, 0.02056790512545525, 0.7532764149793627, 0.10761091642562325, 0.07174061095041549, 0.035870305475207746, 0.25323790160344833, 0.6921835977160922, 0.016882526773563222, 0.016882526773563222, 0.016882526773563222, 0.8766895536854848, 0.028280308183402738, 0.056560616366805476, 0.028280308183402738, 0.27415285895060126, 0.7036590046398765, 0.013707642947530062, 0.004569214315843354, 0.004569214315843354, 0.004569214315843354, 0.7462840023315586, 0.10176600031793981, 0.06784400021195987, 0.033922000105979934, 0.033922000105979934, 0.7458977136827042, 0.1621516768875444, 0.032430335377508876, 0.032430335377508876, 0.032430335377508876, 0.6221385244589248, 0.03770536511872272, 0.18852682559361358, 0.1319687779155295, 0.6406850700294409, 0.2261241423633321, 0.0753747141211107, 0.018843678530277675, 0.018843678530277675, 0.3883861608427409, 0.5148374690240984, 0.07225789038934714, 0.009032236298668393, 0.009032236298668393, 0.7022837326023474, 0.07725121058625822, 0.04915986128216432, 0.15450242117251645, 0.007022837326023474, 0.007022837326023474, 0.46111890589061244, 0.2724793534808164, 0.1676796021420409, 0.02095995026775511, 0.06287985080326533, 0.7576822918013777, 0.135300409250246, 0.027060081850049204, 0.05412016370009841, 0.027060081850049204, 0.8041515280595276, 0.07310468436904796, 0.07310468436904796, 0.02436822812301599, 0.02436822812301599, 0.7986589125137191, 0.1689470776471329, 0.007679412620324223, 0.007679412620324223, 0.007679412620324223, 0.7873257038240208, 0.02385835466133396, 0.08350424131466887, 0.08350424131466887, 0.01192917733066698, 0.01192917733066698, 0.5795307278011556, 0.10866201146271666, 0.10866201146271666, 0.1811033524378611, 0.03622067048757222, 0.5088809564573187, 0.43349118513030854, 0.018847442831752544, 0.004711860707938136, 0.03298302495556695, 0.8545241711787313, 0.03286631427610505, 0.0657326285522101, 0.03286631427610505, 0.03286631427610505, 0.41233762758628384, 0.2998819109718428, 0.22491143322888207, 0.03748523887148035, 0.03748523887148035, 0.6537109137766136, 0.13074218275532273, 0.03268554568883068, 0.03268554568883068, 0.09805663706649205, 0.03268554568883068, 0.8439997510041943, 0.06773967632788544, 0.06590887426496962, 0.01281561444041076, 0.005492406188747468, 0.0036616041258316456, 0.7428085140088505, 0.16756959743634, 0.06252596919266419, 0.02000831014165254, 0.005002077535413135, 0.0025010387677065673, 0.6079514436494777, 0.2786444116726773, 0.025331310152061574, 0.05066262030412315, 0.025331310152061574, 0.928866589355328, 0.04435598881752971, 0.02087340650236692, 0.002609175812795865, 0.002609175812795865, 0.002609175812795865, 0.7398506323173111, 0.13211618434237699, 0.0528464737369508, 0.0264232368684754, 0.0528464737369508, 0.0264232368684754, 0.9280843155643244, 0.03228119358484607, 0.016140596792423034, 0.008070298396211517, 0.008070298396211517, 0.06252898891224867, 0.8910380919995435, 0.015632247228062168, 0.015632247228062168, 0.015632247228062168, 0.923041196328916, 0.03016474497806915, 0.03016474497806915, 0.006032948995613831, 0.006032948995613831, 0.9373685072952992, 0.015955208634813603, 0.031910417269627206, 0.003988802158703401, 0.007977604317406801, 0.003988802158703401, 0.9380829450517246, 0.02737112041264979, 0.02239455306489528, 0.0024882836738772535, 0.004976567347754507, 0.0024882836738772535, 0.8151725110875784, 0.06038314896945025, 0.06038314896945025, 0.030191574484725123, 0.030191574484725123, 0.9205579262760454, 0.017369017476906518, 0.043422543692266294, 0.008684508738453259, 0.46923159755127, 0.48579271275896185, 0.02760185867948647, 0.005520371735897294, 0.005520371735897294, 0.005520371735897294, 0.36525790403285585, 0.5944393340142556, 0.021485759060756227, 0.0071619196869187425, 0.0071619196869187425, 0.730273476096305, 0.13909970973262953, 0.06954985486631476, 0.03477492743315738, 0.03477492743315738, 0.03477492743315738, 0.23300111530582826, 0.6757032343869019, 0.023300111530582826, 0.023300111530582826, 0.04660022306116565, 0.2048512234651446, 0.7023470518804957, 0.02926446049502066, 0.02926446049502066, 0.02926446049502066, 0.8034639091191376, 0.1451803598160818, 0.03380912488867658, 0.009943860261375465, 0.003977544104550186, 0.003977544104550186, 0.9263191870137671, 0.03668590839658484, 0.01834295419829242, 0.00917147709914621, 0.00917147709914621, 0.5523221594451064, 0.33474070269400386, 0.09205369324085107, 0.008368517567350096, 0.008368517567350096, 0.5721476157481195, 0.10898049823773703, 0.2724512455943426, 0.02724512455943426, 0.02724512455943426, 0.9444869529231212, 0.015741449215385353, 0.015741449215385353, 0.015741449215385353, 0.9168132514250361, 0.042975621160548566, 0.02865041410703238, 0.01432520705351619, 0.01432520705351619, 0.8263400099437233, 0.07185565303858463, 0.07185565303858463, 0.035927826519292314, 0.9279551904917045, 0.03237052990087341, 0.021580353267248942, 0.010790176633624471, 0.5124294945915236, 0.18085746867936128, 0.09042873433968064, 0.15071455723280106, 0.030142911446560214, 0.6103489789322999, 0.2670276782828812, 0.03814681118326874, 0.03814681118326874, 0.03814681118326874, 0.3494818180122488, 0.41220932380931913, 0.20610466190465956, 0.00896107225672433, 0.00896107225672433, 0.28548539044808124, 0.05190643462692387, 0.5969239982096245, 0.025953217313461934, 0.025953217313461934, 0.6331580941210645, 0.170465640724902, 0.09740893755708685, 0.07305670316781514, 0.5899318189823426, 0.23597272759293705, 0.07865757586431235, 0.039328787932156176, 0.039328787932156176, 0.5736703248598676, 0.11473406497197351, 0.08605054872898013, 0.20078461370095366, 0.028683516242993378, 0.749786407467734, 0.17687269099238853, 0.06536599449718707, 0.0038450584998345333, 0.0038450584998345333, 0.8448601562640189, 0.08808968453937638, 0.036036689129744885, 0.016016306279886615, 0.008008153139943307, 0.004004076569971654, 0.8396715767750206, 0.07733817154506768, 0.06628986132434372, 0.011048310220723955, 0.011048310220723955, 0.844932248138248, 0.06401001879835211, 0.03840601127901127, 0.012802003759670423, 0.012802003759670423, 0.025604007519340846, 0.39046189657095093, 0.5714076535184648, 0.019046921783948827, 0.009523460891974414, 0.009523460891974414, 0.009523460891974414, 0.9061081717937107, 0.0450053727712108, 0.02700322366272648, 0.015001790923736933, 0.0030003581847473865, 0.0030003581847473865, 0.6546811733612057, 0.3097416304074521, 0.016425692521607308, 0.015252428770063931, 0.0035197912546301377, 0.0011732637515433793, 0.4573640806985856, 0.24392750970591232, 0.1524546935661952, 0.09147281613971713, 0.03049093871323904, 0.5061755871895994, 0.473780349609465, 0.00809880939503359, 0.004049404697516795, 0.004049404697516795, 0.004049404697516795, 0.34866465059500157, 0.5811077509916692, 0.03320615719952396, 0.01660307859976198, 0.00830153929988099, 0.00830153929988099, 0.9541256044994924, 0.015641403352450695, 0.015641403352450695, 0.007820701676225348, 0.007820701676225348, 0.9290487930760557, 0.021605785885489667, 0.021605785885489667, 0.021605785885489667, 0.5022463511343068, 0.4468806116391864, 0.03954695678222889, 0.007909391356445777, 0.003954695678222889, 0.4343184236578945, 0.5257538812700828, 0.02857358050380885, 0.00571471610076177, 0.00571471610076177, 0.25427001270648847, 0.7331863473187095, 0.004937281800125989, 0.007405922700188984, 0.0024686409000629944, 0.0024686409000629944, 0.9430017947491937, 0.03318481389146723, 0.016592406945733613, 0.0027654011576222688, 0.0027654011576222688, 0.0027654011576222688, 0.9210687716847017, 0.020468194926326705, 0.020468194926326705, 0.030702292389490057, 0.010234097463163352, 0.2647513339350424, 0.661878334837606, 0.04727702391697186, 0.009455404783394373, 0.009455404783394373, 0.009455404783394373, 0.16832092958378256, 0.0748093020372367, 0.6919860438444394, 0.018702325509309174, 0.03740465101861835, 0.6200740741115097, 0.029527336862452843, 0.2066913580371699, 0.11810934744981137, 0.2104539791334721, 0.7215564998861901, 0.030064854161924583, 0.030064854161924583, 0.030064854161924583, 0.5823859849849236, 0.2911929924924618, 0.07941627067976231, 0.026472090226587437, 0.7050073229113338, 0.16022893702530314, 0.03204578740506062, 0.01602289370253031, 0.08011446851265157, 0.9441305150334197, 0.036665262719744456, 0.009166315679936114, 0.004583157839968057, 0.004583157839968057, 0.7262881348372054, 0.2396931065343631, 0.030637464744993778, 0.0018022038085290458, 0.0018022038085290458, 0.0018022038085290458, 0.7413031594929672, 0.20154179648715045, 0.032432013227817316, 0.018532578987324178, 0.0023165723734155223, 0.0023165723734155223, 0.8267868008670968, 0.09235384477770762, 0.039580219190446124, 0.02638681279363075, 0.004397802132271792, 0.008795604264543583, 0.849429947214858, 0.06067356765820414, 0.03033678382910207, 0.03033678382910207], \"Term\": [\"100\", \"100\", \"100\", \"100\", \"200\", \"200\", \"200\", \"200\", \"2017\", \"2017\", \"2017\", \"2017\", \"2017\", \"2017\", \"31\", \"31\", \"31\", \"31\", \"31\", \"40\", \"40\", \"40\", \"40\", \"40\", \"53man\", \"53man\", \"53man\", \"53man\", \"53man\", \"ability\", \"ability\", \"ability\", \"ability\", \"ability\", \"ability\", \"achilles\", \"achilles\", \"achilles\", \"active\", \"active\", \"active\", \"active\", \"active\", \"active\", \"addition\", \"addition\", \"addition\", \"addition\", \"addition\", \"afc\", \"afc\", \"afc\", \"afc\", \"air\", \"air\", \"air\", \"air\", \"albert\", \"albert\", \"albert\", \"albert\", \"albert\", \"ankle\", \"ankle\", \"ankle\", \"ankle\", \"ankle\", \"ankle injury\", \"ankle injury\", \"ankle injury\", \"ankle injury\", \"ankle injury\", \"announced\", \"announced\", \"announced\", \"announced\", \"announced\", \"announced\", \"area\", \"area\", \"area\", \"area\", \"area\", \"attempts\", \"attempts\", \"attempts\", \"attempts\", \"attempts\", \"austin\", \"austin\", \"austin\", \"austin\", \"austin\", \"austin howard\", \"austin howard\", \"austin howard\", \"austin howard\", \"austin howard\", \"available\", \"available\", \"available\", \"available\", \"available\", \"backfield\", \"backfield\", \"backfield\", \"backfield\", \"ball\", \"ball\", \"ball\", \"ball\", \"ball\", \"ball\", \"baltimore\", \"baltimore\", \"baltimore\", \"baltimore\", \"baltimore\", \"baltimore\", \"baltimore ravens\", \"baltimore ravens\", \"baltimore ravens\", \"baltimore ravens\", \"baltimore ravens\", \"baltimore ravens\", \"bam\", \"bam\", \"bam\", \"bam\", \"bam\", \"bank\", \"bank\", \"bank\", \"bank\", \"bank\", \"bank\", \"bank stadium\", \"bank stadium\", \"bank stadium\", \"bank stadium\", \"bank stadium\", \"bank stadium\", \"bengals\", \"bengals\", \"bengals\", \"bengals\", \"bengals\", \"bengals\", \"bergstrom\", \"bergstrom\", \"bergstrom\", \"bergstrom\", \"bergstrom\", \"better\", \"better\", \"better\", \"better\", \"better\", \"better\", \"bills\", \"bills\", \"bills\", \"bills\", \"bills\", \"bisciotti\", \"bisciotti\", \"bisciotti\", \"bisciotti\", \"bisciotti\", \"bradley\", \"bradley\", \"bradley\", \"bradley\", \"bradley\", \"break\", \"break\", \"break\", \"break\", \"brent urban\", \"brent urban\", \"brent urban\", \"brent urban\", \"brent urban\", \"buffalo\", \"buffalo\", \"buffalo\", \"buffalo\", \"buffalo\", \"build\", \"build\", \"build\", \"build\", \"built\", \"built\", \"built\", \"built\", \"built\", \"calf\", \"calf\", \"calf\", \"camp\", \"camp\", \"camp\", \"camp\", \"camp\", \"camp preseason\", \"camp preseason\", \"camp preseason\", \"camp preseason\", \"camp preseason\", \"campanaro\", \"campanaro\", \"campanaro\", \"campanaro\", \"campanaro\", \"canady\", \"canady\", \"canady\", \"canady\", \"canady\", \"cancer\", \"cancer\", \"cancer\", \"cancer\", \"care\", \"care\", \"care\", \"care\", \"care\", \"carl davis\", \"carl davis\", \"carl davis\", \"carl davis\", \"carl davis\", \"catch\", \"catch\", \"catch\", \"catch\", \"catch\", \"cb\", \"cb\", \"cb\", \"cb\", \"cb\", \"center\", \"center\", \"center\", \"center\", \"center\", \"city\", \"city\", \"city\", \"city\", \"city\", \"city\", \"cj\", \"cj\", \"cj\", \"cj\", \"cj\", \"coach\", \"coach\", \"coach\", \"coach\", \"coach\", \"coach\", \"college\", \"college\", \"college\", \"college\", \"college\", \"college\", \"community\", \"community\", \"community\", \"community\", \"community\", \"community\", \"competing\", \"competing\", \"competing\", \"competing\", \"competing\", \"completed\", \"completed\", \"completed\", \"completed\", \"completed\", \"contract\", \"contract\", \"contract\", \"contract\", \"contract\", \"cornerback\", \"cornerback\", \"cornerback\", \"cornerback\", \"cornerback\", \"cornerbacks\", \"cornerbacks\", \"cornerbacks\", \"cornerbacks\", \"corps\", \"corps\", \"corps\", \"corps\", \"corps\", \"correa\", \"correa\", \"correa\", \"correa\", \"correa\", \"credit\", \"credit\", \"credit\", \"credit\", \"danny\", \"danny\", \"danny\", \"danny\", \"danny\", \"danny woodhead\", \"danny woodhead\", \"danny woodhead\", \"danny woodhead\", \"danny woodhead\", \"davis\", \"davis\", \"davis\", \"davis\", \"davis\", \"day\", \"day\", \"day\", \"day\", \"day\", \"day\", \"defense\", \"defense\", \"defense\", \"defense\", \"defense\", \"defense\", \"defensive\", \"defensive\", \"defensive\", \"defensive\", \"defensive\", \"defensive\", \"defensive tackle\", \"defensive tackle\", \"defensive tackle\", \"defensive tackle\", \"defensive tackle\", \"defensive tackle brandon\", \"defensive tackle brandon\", \"defensive tackle brandon\", \"defensive tackle brandon\", \"defensive tackle brandon\", \"definitely\", \"definitely\", \"definitely\", \"definitely\", \"definitely\", \"dennis\", \"dennis\", \"dennis\", \"dennis\", \"dennis\", \"did\", \"did\", \"did\", \"did\", \"did\", \"did\", \"difference\", \"difference\", \"difference\", \"difference\", \"difference\", \"difference\", \"difficult\", \"difficult\", \"difficult\", \"difficult\", \"difficult\", \"division\", \"division\", \"division\", \"division\", \"division\", \"doesnt\", \"doesnt\", \"doesnt\", \"doesnt\", \"doesnt\", \"dominant\", \"dominant\", \"dominant\", \"dominant\", \"dominant\", \"dont\", \"dont\", \"dont\", \"dont\", \"dont\", \"dont\", \"drafted\", \"drafted\", \"drafted\", \"drafted\", \"drafted\", \"end\", \"end\", \"end\", \"end\", \"end\", \"end\", \"excited\", \"excited\", \"excited\", \"excited\", \"excited\", \"excited\", \"experience\", \"experience\", \"experience\", \"experience\", \"experience\", \"experience\", \"face\", \"face\", \"face\", \"face\", \"fan\", \"fan\", \"fan\", \"fan\", \"fan\", \"fans\", \"fans\", \"fans\", \"fans\", \"fans\", \"fans\", \"feel\", \"feel\", \"feel\", \"feel\", \"feel\", \"feel\", \"felt\", \"felt\", \"felt\", \"felt\", \"felt\", \"flacco\", \"flacco\", \"flacco\", \"flacco\", \"flacco\", \"flacco\", \"following\", \"following\", \"following\", \"following\", \"following\", \"following\", \"foot\", \"foot\", \"foot\", \"foot\", \"foot injury\", \"foot injury\", \"foot injury\", \"foot injury\", \"football\", \"football\", \"football\", \"football\", \"football\", \"football\", \"foster\", \"foster\", \"foster\", \"foster\", \"foster\", \"foster\", \"friday\", \"friday\", \"friday\", \"friday\", \"friday\", \"friday\", \"fullback\", \"fullback\", \"fullback\", \"fullback\", \"fullback\", \"fully\", \"fully\", \"fully\", \"fully\", \"fully\", \"fumble\", \"fumble\", \"fumble\", \"fumble\", \"fun\", \"fun\", \"fun\", \"fun\", \"fun\", \"game\", \"game\", \"game\", \"game\", \"game\", \"game\", \"gameday\", \"gameday\", \"gameday\", \"gameday\", \"gameday\", \"games\", \"games\", \"games\", \"games\", \"games\", \"games\", \"general\", \"general\", \"general\", \"general\", \"general\", \"general\", \"gives\", \"gives\", \"gives\", \"gives\", \"gives\", \"going\", \"going\", \"going\", \"going\", \"going\", \"going\", \"good\", \"good\", \"good\", \"good\", \"good\", \"good\", \"got\", \"got\", \"got\", \"got\", \"got\", \"got\", \"great\", \"great\", \"great\", \"great\", \"great\", \"great\", \"great job\", \"great job\", \"great job\", \"great job\", \"great job\", \"guard\", \"guard\", \"guard\", \"guard\", \"guard\", \"guys\", \"guys\", \"guys\", \"guys\", \"guys\", \"guys\", \"hamstring\", \"hamstring\", \"hamstring\", \"hamstring\", \"hamstring\", \"happens\", \"happens\", \"happens\", \"happens\", \"harbaugh\", \"harbaugh\", \"harbaugh\", \"harbaugh\", \"harbaugh\", \"harbaugh\", \"harbaugh said\", \"harbaugh said\", \"harbaugh said\", \"harbaugh said\", \"harbaugh said\", \"head\", \"head\", \"head\", \"head\", \"head\", \"head\", \"head coach\", \"head coach\", \"head coach\", \"head coach\", \"head coach\", \"head coach\", \"helped\", \"helped\", \"helped\", \"helped\", \"helped\", \"hensley\", \"hensley\", \"hensley\", \"hensley\", \"hensley\", \"hes\", \"hes\", \"hes\", \"hes\", \"hes\", \"hes\", \"high\", \"high\", \"high\", \"high\", \"high\", \"high\", \"high school\", \"high school\", \"high school\", \"high school\", \"high school\", \"high school\", \"hill\", \"hill\", \"hill\", \"hill\", \"hill\", \"hope\", \"hope\", \"hope\", \"hope\", \"hope\", \"hope\", \"houston\", \"houston\", \"houston\", \"houston\", \"houston\", \"howard\", \"howard\", \"howard\", \"howard\", \"howard\", \"howard\", \"hurst\", \"hurst\", \"hurst\", \"hurst\", \"hurst\", \"im\", \"im\", \"im\", \"im\", \"im\", \"im\", \"important\", \"important\", \"important\", \"important\", \"important\", \"important\", \"impressive\", \"impressive\", \"impressive\", \"impressive\", \"including\", \"including\", \"including\", \"including\", \"including\", \"including\", \"injured\", \"injured\", \"injured\", \"injured\", \"injured\", \"injuries\", \"injuries\", \"injuries\", \"injuries\", \"injuries\", \"injury\", \"injury\", \"injury\", \"injury\", \"injury\", \"injury\", \"injury report\", \"injury report\", \"injury report\", \"injury report\", \"ir\", \"ir\", \"ir\", \"ir\", \"james\", \"james\", \"james\", \"james\", \"james\", \"jensen\", \"jensen\", \"jensen\", \"jensen\", \"jensen\", \"job\", \"job\", \"job\", \"job\", \"job\", \"job\", \"joe\", \"joe\", \"joe\", \"joe\", \"joe\", \"joe\", \"just\", \"just\", \"just\", \"just\", \"just\", \"just\", \"justin\", \"justin\", \"justin\", \"justin\", \"justin\", \"justin\", \"kickoff\", \"kickoff\", \"kickoff\", \"kickoff\", \"kind\", \"kind\", \"kind\", \"kind\", \"kind\", \"kind\", \"knee\", \"knee\", \"knee\", \"knee\", \"knee\", \"know\", \"know\", \"know\", \"know\", \"know\", \"know\", \"langford\", \"langford\", \"langford\", \"langford\", \"langford\", \"laughter\", \"laughter\", \"laughter\", \"laughter\", \"lb\", \"lb\", \"lb\", \"lb\", \"lb\", \"left\", \"left\", \"left\", \"left\", \"left\", \"left guard\", \"left guard\", \"left guard\", \"left guard\", \"left guard\", \"left tackle\", \"left tackle\", \"left tackle\", \"left tackle\", \"left tackle\", \"levine\", \"levine\", \"levine\", \"levine\", \"levine\", \"lewis\", \"lewis\", \"lewis\", \"lewis\", \"lewis\", \"life\", \"life\", \"life\", \"life\", \"like\", \"like\", \"like\", \"like\", \"like\", \"like\", \"limited\", \"limited\", \"limited\", \"limited\", \"limited\", \"linebacker\", \"linebacker\", \"linebacker\", \"linebacker\", \"linebacker\", \"listed\", \"listed\", \"listed\", \"listed\", \"listed\", \"listed\", \"live\", \"live\", \"live\", \"live\", \"live\", \"london\", \"london\", \"london\", \"london\", \"lose\", \"lose\", \"lose\", \"lose\", \"loss\", \"loss\", \"loss\", \"loss\", \"lot\", \"lot\", \"lot\", \"lot\", \"lot\", \"lot\", \"make\", \"make\", \"make\", \"make\", \"make\", \"make\", \"mallett\", \"mallett\", \"mallett\", \"mallett\", \"mallett\", \"media\", \"media\", \"media\", \"media\", \"media\", \"media\", \"miami\", \"miami\", \"miami\", \"miami\", \"miami\", \"michael pierce\", \"michael pierce\", \"michael pierce\", \"michael pierce\", \"michael pierce\", \"million\", \"million\", \"million\", \"million\", \"million\", \"million\", \"mind\", \"mind\", \"mind\", \"mind\", \"mind\", \"missed\", \"missed\", \"missed\", \"missed\", \"missed\", \"mizzell\", \"mizzell\", \"mizzell\", \"mizzell\", \"mizzell\", \"moved\", \"moved\", \"moved\", \"moved\", \"moved\", \"moved\", \"mt\", \"mt\", \"mt\", \"mt\", \"mt\", \"mt\", \"mt bank\", \"mt bank\", \"mt bank\", \"mt bank\", \"mt bank\", \"mt bank\", \"mt bank stadium\", \"mt bank stadium\", \"mt bank stadium\", \"mt bank stadium\", \"mt bank stadium\", \"mt bank stadium\", \"multiple\", \"multiple\", \"multiple\", \"multiple\", \"multiple\", \"multiple\", \"national\", \"national\", \"national\", \"national\", \"national\", \"national\", \"nearly\", \"nearly\", \"nearly\", \"nearly\", \"nearly\", \"nearly\", \"new\", \"new\", \"new\", \"new\", \"new\", \"new\", \"new orleans\", \"new orleans\", \"new orleans\", \"new orleans\", \"new orleans\", \"nfl\", \"nfl\", \"nfl\", \"nfl\", \"nfl\", \"nfl\", \"nfls\", \"nfls\", \"nfls\", \"nfls\", \"nfls\", \"nfls\", \"numbers\", \"numbers\", \"numbers\", \"numbers\", \"obviously\", \"obviously\", \"obviously\", \"obviously\", \"obviously\", \"offense\", \"offense\", \"offense\", \"offense\", \"offense\", \"offense\", \"offensive\", \"offensive\", \"offensive\", \"offensive\", \"offensive\", \"offensive\", \"olb\", \"olb\", \"olb\", \"olb\", \"olb\", \"onwuasor\", \"onwuasor\", \"onwuasor\", \"onwuasor\", \"onwuasor\", \"opener\", \"opener\", \"opener\", \"opener\", \"opener\", \"organization\", \"organization\", \"organization\", \"organization\", \"organization\", \"organization\", \"orleans\", \"orleans\", \"orleans\", \"orleans\", \"orleans\", \"orr\", \"orr\", \"orr\", \"orr\", \"orr\", \"overtime\", \"overtime\", \"overtime\", \"overtime\", \"ozzie newsome\", \"ozzie newsome\", \"ozzie newsome\", \"ozzie newsome\", \"ozzie newsome\", \"pair\", \"pair\", \"pair\", \"pair\", \"pair\", \"participant\", \"participant\", \"participant\", \"participant\", \"participant\", \"pass\", \"pass\", \"pass\", \"pass\", \"pass\", \"passing\", \"passing\", \"passing\", \"passing\", \"patrick\", \"patrick\", \"patrick\", \"patrick\", \"patrick\", \"patriots\", \"patriots\", \"patriots\", \"patriots\", \"penalties\", \"penalties\", \"penalties\", \"penalties\", \"penalties\", \"perriman\", \"perriman\", \"perriman\", \"perriman\", \"perriman\", \"pitta\", \"pitta\", \"pitta\", \"pitta\", \"pitta\", \"plan\", \"plan\", \"plan\", \"plan\", \"plan\", \"play\", \"play\", \"play\", \"play\", \"play\", \"play\", \"played\", \"played\", \"played\", \"played\", \"played\", \"played\", \"player\", \"player\", \"player\", \"player\", \"player\", \"player\", \"players\", \"players\", \"players\", \"players\", \"players\", \"players\", \"plays\", \"plays\", \"plays\", \"plays\", \"plays\", \"plays\", \"pm\", \"pm\", \"pm\", \"pm\", \"pm\", \"points\", \"points\", \"points\", \"points\", \"positions\", \"positions\", \"positions\", \"positions\", \"practice\", \"practice\", \"practice\", \"practice\", \"practice\", \"practice\", \"practice squad\", \"practice squad\", \"practice squad\", \"practice squad\", \"practice squad\", \"practice week\", \"practice week\", \"practice week\", \"practice week\", \"practice week\", \"prepare\", \"prepare\", \"prepare\", \"prepare\", \"prepare\", \"preseason\", \"preseason\", \"preseason\", \"preseason\", \"preseason\", \"preseason\", \"preseason game\", \"preseason game\", \"preseason game\", \"preseason game\", \"preseason game\", \"preseason games\", \"preseason games\", \"preseason games\", \"preseason games\", \"preseason games\", \"pretty\", \"pretty\", \"pretty\", \"pretty\", \"pretty\", \"prove\", \"prove\", \"prove\", \"prove\", \"prove\", \"purple\", \"purple\", \"purple\", \"purple\", \"purple\", \"quarterback\", \"quarterback\", \"quarterback\", \"quarterback\", \"quarterback\", \"quarterback\", \"questionable\", \"questionable\", \"questionable\", \"questionable\", \"questions\", \"questions\", \"questions\", \"questions\", \"questions\", \"radio\", \"radio\", \"radio\", \"radio\", \"radio\", \"rankings\", \"rankings\", \"rankings\", \"rankings\", \"ravens fans\", \"ravens fans\", \"ravens fans\", \"ravens fans\", \"ravens fans\", \"ravens offense\", \"ravens offense\", \"ravens offense\", \"ravens offense\", \"rb\", \"rb\", \"rb\", \"rb\", \"rb\", \"really\", \"really\", \"really\", \"really\", \"really\", \"really\", \"receiver\", \"receiver\", \"receiver\", \"receiver\", \"receiver\", \"recent\", \"recent\", \"recent\", \"recent\", \"regularseason\", \"regularseason\", \"regularseason\", \"regularseason\", \"regularseason\", \"replace\", \"replace\", \"replace\", \"replace\", \"report\", \"report\", \"report\", \"report\", \"reporters\", \"reporters\", \"reporters\", \"reporters\", \"reporters\", \"reps\", \"reps\", \"reps\", \"reps\", \"reps\", \"reserve\", \"reserve\", \"reserve\", \"reserve\", \"reserve\", \"return\", \"return\", \"return\", \"return\", \"return\", \"return\", \"returned\", \"returned\", \"returned\", \"returned\", \"returned\", \"returned practice\", \"returned practice\", \"returned practice\", \"returned practice\", \"returned practice\", \"ricard\", \"ricard\", \"ricard\", \"ricard\", \"ricard\", \"right\", \"right\", \"right\", \"right\", \"right\", \"rival\", \"rival\", \"rival\", \"rival\", \"rock\", \"rock\", \"rock\", \"rock\", \"rock\", \"ronnie\", \"ronnie\", \"ronnie\", \"ronnie\", \"ronnie\", \"ronnie stanley\", \"ronnie stanley\", \"ronnie stanley\", \"ronnie stanley\", \"ronnie stanley\", \"rookie\", \"rookie\", \"rookie\", \"rookie\", \"rookie\", \"rookie\", \"rookie quarterback\", \"rookie quarterback\", \"rookie quarterback\", \"rookie quarterback\", \"roster\", \"roster\", \"roster\", \"roster\", \"roster\", \"roster\", \"ruled\", \"ruled\", \"ruled\", \"ruled\", \"ruled\", \"run\", \"run\", \"run\", \"run\", \"run\", \"run\", \"run ball\", \"run ball\", \"run ball\", \"run ball\", \"run ball\", \"running\", \"running\", \"running\", \"running\", \"running\", \"running\", \"ryan\", \"ryan\", \"ryan\", \"ryan\", \"ryan\", \"ryan jensen\", \"ryan jensen\", \"ryan jensen\", \"ryan jensen\", \"ryan jensen\", \"said\", \"said\", \"said\", \"said\", \"said\", \"said\", \"san\", \"san\", \"san\", \"san\", \"san\", \"san\", \"saturday\", \"saturday\", \"saturday\", \"saturday\", \"saturday\", \"school\", \"school\", \"school\", \"school\", \"school\", \"school\", \"season\", \"season\", \"season\", \"season\", \"season\", \"season\", \"sense\", \"sense\", \"sense\", \"sense\", \"sense\", \"sept\", \"sept\", \"sept\", \"sept\", \"sept\", \"showed\", \"showed\", \"showed\", \"showed\", \"showed\", \"shown\", \"shown\", \"shown\", \"shown\", \"sidelined\", \"sidelined\", \"sidelined\", \"sidelined\", \"sidelined\", \"situations\", \"situations\", \"situations\", \"situations\", \"smith\", \"smith\", \"smith\", \"smith\", \"smith\", \"smith\", \"somebody\", \"somebody\", \"somebody\", \"somebody\", \"somebody\", \"speed\", \"speed\", \"speed\", \"speed\", \"speed\", \"sports\", \"sports\", \"sports\", \"sports\", \"spots\", \"spots\", \"spots\", \"spots\", \"spots\", \"squad\", \"squad\", \"squad\", \"squad\", \"squad\", \"stadium\", \"stadium\", \"stadium\", \"stadium\", \"stadium\", \"stadium\", \"starters\", \"starters\", \"starters\", \"starters\", \"starters\", \"starts\", \"starts\", \"starts\", \"starts\", \"starts\", \"stay\", \"stay\", \"stay\", \"stay\", \"stay\", \"suggs\", \"suggs\", \"suggs\", \"suggs\", \"suggs\", \"super\", \"super\", \"super\", \"super\", \"super\", \"super\", \"support\", \"support\", \"support\", \"support\", \"support\", \"tackle\", \"tackle\", \"tackle\", \"tackle\", \"tackle\", \"tape\", \"tape\", \"tape\", \"tape\", \"tape\", \"taquan\", \"taquan\", \"taquan\", \"taquan\", \"taquan\", \"te\", \"te\", \"te\", \"te\", \"te\", \"te\", \"team\", \"team\", \"team\", \"team\", \"team\", \"team\", \"teams\", \"teams\", \"teams\", \"teams\", \"teams\", \"teams\", \"th\", \"th\", \"th\", \"th\", \"th\", \"thats\", \"thats\", \"thats\", \"thats\", \"thats\", \"thats\", \"theyll\", \"theyll\", \"theyll\", \"theyll\", \"theyll\", \"theyll\", \"theyre\", \"theyre\", \"theyre\", \"theyre\", \"theyre\", \"thigh\", \"thigh\", \"thigh\", \"thigh\", \"thigh\", \"thing\", \"thing\", \"thing\", \"thing\", \"thing\", \"things\", \"things\", \"things\", \"things\", \"things\", \"things\", \"think\", \"think\", \"think\", \"think\", \"think\", \"think\", \"thinking\", \"thinking\", \"thinking\", \"thinking\", \"thinking\", \"thought\", \"thought\", \"thought\", \"thought\", \"tight\", \"tight\", \"tight\", \"tight\", \"tight\", \"tight\", \"tight end\", \"tight end\", \"tight end\", \"tight end\", \"tight end\", \"tight ends\", \"tight ends\", \"tight ends\", \"tight ends\", \"tight ends\", \"tight ends\", \"tim\", \"tim\", \"tim\", \"tim\", \"tim\", \"tim williams\", \"tim williams\", \"tim williams\", \"tim williams\", \"tim williams\", \"time\", \"time\", \"time\", \"time\", \"time\", \"time\", \"today\", \"today\", \"today\", \"today\", \"today\", \"training\", \"training\", \"training\", \"training\", \"training\", \"trip\", \"trip\", \"trip\", \"trip\", \"trip\", \"trubisky\", \"trubisky\", \"trubisky\", \"trubisky\", \"tucker\", \"tucker\", \"tucker\", \"tucker\", \"tucker\", \"turnover\", \"turnover\", \"turnover\", \"turnover\", \"turnovers\", \"turnovers\", \"turnovers\", \"turnovers\", \"tv\", \"tv\", \"tv\", \"tv\", \"tv\", \"tyus\", \"tyus\", \"tyus\", \"tyus\", \"tyus\", \"undrafted\", \"undrafted\", \"undrafted\", \"undrafted\", \"undrafted\", \"urschel\", \"urschel\", \"urschel\", \"urschel\", \"urschel\", \"use\", \"use\", \"use\", \"use\", \"valuable\", \"valuable\", \"valuable\", \"valuable\", \"valuable\", \"video\", \"video\", \"video\", \"video\", \"video\", \"wallace\", \"wallace\", \"wallace\", \"wallace\", \"wallace\", \"want\", \"want\", \"want\", \"want\", \"want\", \"want\", \"wanted\", \"wanted\", \"wanted\", \"wanted\", \"wanted\", \"watch\", \"watch\", \"watch\", \"watch\", \"watch\", \"watch\", \"watson\", \"watson\", \"watson\", \"watson\", \"watson\", \"watson\", \"way\", \"way\", \"way\", \"way\", \"way\", \"way\", \"week\", \"week\", \"week\", \"week\", \"week\", \"week\", \"weekend\", \"weekend\", \"weekend\", \"weekend\", \"weekend\", \"weeks\", \"weeks\", \"weeks\", \"weeks\", \"weeks\", \"weeks\", \"west\", \"west\", \"west\", \"west\", \"west\", \"west\", \"weve\", \"weve\", \"weve\", \"weve\", \"weve\", \"weve got\", \"weve got\", \"weve got\", \"weve got\", \"wide\", \"wide\", \"wide\", \"wide\", \"wide\", \"wide receiver\", \"wide receiver\", \"wide receiver\", \"wide receiver\", \"wide receiver\", \"williams\", \"williams\", \"williams\", \"williams\", \"williams\", \"williams\", \"win\", \"win\", \"win\", \"win\", \"win\", \"win\", \"winning\", \"winning\", \"winning\", \"winning\", \"winning\", \"woodhead\", \"woodhead\", \"woodhead\", \"woodhead\", \"woodhead\", \"woodhead\", \"woodrum\", \"woodrum\", \"woodrum\", \"woodrum\", \"woodrum\", \"world\", \"world\", \"world\", \"world\", \"wormley\", \"wormley\", \"wormley\", \"wormley\", \"wormley\", \"wouldnt\", \"wouldnt\", \"wouldnt\", \"wouldnt\", \"wr\", \"wr\", \"wr\", \"wr\", \"wr\", \"wrote\", \"wrote\", \"wrote\", \"wrote\", \"wrote\", \"yards\", \"yards\", \"yards\", \"yards\", \"yards\", \"yards\", \"year\", \"year\", \"year\", \"year\", \"year\", \"year\", \"years\", \"years\", \"years\", \"years\", \"years\", \"years\", \"yesterday\", \"yesterday\", \"yesterday\", \"yesterday\"]}, \"R\": 30, \"lambda.step\": 0.01, \"plot.opts\": {\"xlab\": \"PC1\", \"ylab\": \"PC2\"}, \"topic.order\": [10, 3, 8, 6, 4, 5, 9, 1, 7, 2]};\n",
       "\n",
       "function LDAvis_load_lib(url, callback){\n",
       "  var s = document.createElement('script');\n",
       "  s.src = url;\n",
       "  s.async = true;\n",
       "  s.onreadystatechange = s.onload = callback;\n",
       "  s.onerror = function(){console.warn(\"failed to load library \" + url);};\n",
       "  document.getElementsByTagName(\"head\")[0].appendChild(s);\n",
       "}\n",
       "\n",
       "if(typeof(LDAvis) !== \"undefined\"){\n",
       "   // already loaded: just create the visualization\n",
       "   !function(LDAvis){\n",
       "       new LDAvis(\"#\" + \"ldavis_el973615824733743605325631233\", ldavis_el973615824733743605325631233_data);\n",
       "   }(LDAvis);\n",
       "}else if(typeof define === \"function\" && define.amd){\n",
       "   // require.js is available: use it to load d3/LDAvis\n",
       "   require.config({paths: {d3: \"https://cdnjs.cloudflare.com/ajax/libs/d3/3.5.5/d3.min\"}});\n",
       "   require([\"d3\"], function(d3){\n",
       "      window.d3 = d3;\n",
       "      LDAvis_load_lib(\"https://cdn.rawgit.com/bmabey/pyLDAvis/files/ldavis.v1.0.0.js\", function(){\n",
       "        new LDAvis(\"#\" + \"ldavis_el973615824733743605325631233\", ldavis_el973615824733743605325631233_data);\n",
       "      });\n",
       "    });\n",
       "}else{\n",
       "    // require.js not available: dynamically load d3 & LDAvis\n",
       "    LDAvis_load_lib(\"https://cdnjs.cloudflare.com/ajax/libs/d3/3.5.5/d3.min.js\", function(){\n",
       "         LDAvis_load_lib(\"https://cdn.rawgit.com/bmabey/pyLDAvis/files/ldavis.v1.0.0.js\", function(){\n",
       "                 new LDAvis(\"#\" + \"ldavis_el973615824733743605325631233\", ldavis_el973615824733743605325631233_data);\n",
       "            })\n",
       "         });\n",
       "}\n",
       "</script>"
      ],
      "text/plain": [
       "PreparedData(topic_coordinates=            Freq  cluster  topics         x         y\n",
       "topic                                                \n",
       "9      72.224402        1       1 -0.020722 -0.061154\n",
       "2      20.238952        1       2 -0.113843  0.036808\n",
       "7       4.097299        1       3 -0.009519 -0.040206\n",
       "5       1.670474        1       4  0.090202  0.024736\n",
       "3       0.991276        1       5 -0.012560  0.006977\n",
       "4       0.569385        1       6  0.037014  0.003779\n",
       "8       0.108327        1       7  0.005812  0.010321\n",
       "0       0.033296        1       8  0.004793 -0.002624\n",
       "6       0.033295        1       9  0.008953  0.001518\n",
       "1       0.033295        1      10  0.009870  0.019845, topic_info=     Category         Freq           Term        Total  loglift  logprob\n",
       "term                                                                    \n",
       "309   Default  1449.000000           game  1449.000000  30.0000  30.0000\n",
       "429   Default  1023.000000           just  1023.000000  29.0000  29.0000\n",
       "760   Default   967.000000           said   967.000000  28.0000  28.0000\n",
       "72    Default   571.000000      baltimore   571.000000  27.0000  27.0000\n",
       "322   Default   682.000000          going   682.000000  26.0000  26.0000\n",
       "629   Default   819.000000           play   819.000000  25.0000  25.0000\n",
       "324   Default   635.000000           good   635.000000  24.0000  24.0000\n",
       "467   Default   539.000000           like   539.000000  23.0000  23.0000\n",
       "952   Default   852.000000           week   852.000000  22.0000  22.0000\n",
       "288   Default   578.000000         flacco   578.000000  21.0000  21.0000\n",
       "863   Default   546.000000           team   546.000000  20.0000  20.0000\n",
       "208   Default   562.000000        defense   562.000000  19.0000  19.0000\n",
       "362   Default   550.000000            hes   550.000000  18.0000  18.0000\n",
       "773   Default   626.000000         season   626.000000  17.0000  17.0000\n",
       "880   Default   401.000000          think   401.000000  16.0000  16.0000\n",
       "574   Default   511.000000        offense   511.000000  15.0000  15.0000\n",
       "649   Default   496.000000       practice   496.000000  14.0000  14.0000\n",
       "894   Default   502.000000           time   502.000000  13.0000  13.0000\n",
       "703   Default   374.000000         really   374.000000  12.0000  12.0000\n",
       "71    Default   405.000000           ball   405.000000  11.0000  11.0000\n",
       "336   Default   343.000000           guys   343.000000  10.0000  10.0000\n",
       "393   Default   481.000000         injury   481.000000   9.0000   9.0000\n",
       "295   Default   354.000000       football   354.000000   8.0000   8.0000\n",
       "312   Default   528.000000          games   528.000000   7.0000   7.0000\n",
       "441   Default   360.000000           know   360.000000   6.0000   6.0000\n",
       "969   Default   361.000000            win   361.000000   5.0000   5.0000\n",
       "872   Default   383.000000          thats   383.000000   4.0000   4.0000\n",
       "991   Default   431.000000           year   431.000000   3.0000   3.0000\n",
       "346   Default   424.000000       harbaugh   424.000000   2.0000   2.0000\n",
       "500   Default   382.000000           make   382.000000   1.0000   1.0000\n",
       "...       ...          ...            ...          ...      ...      ...\n",
       "945   Topic10     0.053977         watson   105.003844   0.4343  -6.3569\n",
       "584   Topic10     0.043966         opener    63.754899   0.7281  -6.5620\n",
       "716   Topic10     0.045296         report    70.574457   0.6563  -6.5322\n",
       "718   Topic10     0.041520      reporters    57.059924   0.7818  -6.6193\n",
       "975   Topic10     0.049891       woodhead   105.759618   0.3484  -6.4356\n",
       "393   Topic10     0.070014         injury   481.671835  -0.8288  -6.0968\n",
       "195   Topic10     0.041686          danny    70.588191   0.5731  -6.6153\n",
       "160   Topic10     0.057788          coach   264.817304  -0.4225  -6.2887\n",
       "288   Topic10     0.069616         flacco   578.499996  -1.0177  -6.1025\n",
       "72    Topic10     0.067934      baltimore   571.810732  -1.0305  -6.1269\n",
       "863   Topic10     0.066015           team   546.208692  -1.0133  -6.1556\n",
       "879   Topic10     0.053835         things   250.701830  -0.4386  -6.3595\n",
       "723   Topic10     0.050824         return   196.086522  -0.2504  -6.4171\n",
       "654   Topic10     0.053870      preseason   298.778704  -0.6134  -6.3589\n",
       "422   Topic10     0.051446            joe   262.072381  -0.5283  -6.4049\n",
       "351   Topic10     0.050661           head   247.520127  -0.4866  -6.4203\n",
       "649   Topic10     0.054847       practice   496.014351  -1.1023  -6.3409\n",
       "86    Topic10     0.044745        bengals   136.732097  -0.0173  -6.5445\n",
       "616   Topic10     0.046876       perriman   186.647654  -0.2819  -6.4979\n",
       "737   Topic10     0.049195         rookie   316.652069  -0.7623  -6.4497\n",
       "952   Topic10     0.055655           week   852.323272  -1.6290  -6.3263\n",
       "964   Topic10     0.045421  wide receiver   174.986820  -0.2490  -6.5295\n",
       "760   Topic10     0.053352           said   967.997958  -1.7986  -6.3685\n",
       "467   Topic10     0.048741           like   539.871706  -1.3050  -6.4589\n",
       "955   Topic10     0.045705          weeks   246.949879  -0.5872  -6.5232\n",
       "559   Topic10     0.044864            new   195.394124  -0.3716  -6.5418\n",
       "991   Topic10     0.046734           year   431.672246  -1.1234  -6.5010\n",
       "352   Topic10     0.044882     head coach   200.704411  -0.3980  -6.5414\n",
       "894   Topic10     0.045656           time   502.822834  -1.2993  -6.5243\n",
       "392   Topic10     0.044737       injuries   200.102040  -0.3983  -6.5446\n",
       "\n",
       "[643 rows x 6 columns], token_table=      Topic      Freq       Term\n",
       "term                            \n",
       "1         1  0.674682        100\n",
       "1         2  0.202405        100\n",
       "1         3  0.033734        100\n",
       "1         4  0.033734        100\n",
       "10        1  0.665755        200\n",
       "10        2  0.195810        200\n",
       "10        3  0.039162        200\n",
       "10        4  0.039162        200\n",
       "17        1  0.794379       2017\n",
       "17        2  0.048635       2017\n",
       "17        3  0.016212       2017\n",
       "17        4  0.048635       2017\n",
       "17        5  0.016212       2017\n",
       "17        6  0.064847       2017\n",
       "24        1  0.815178         31\n",
       "24        2  0.062706         31\n",
       "24        3  0.031353         31\n",
       "24        4  0.031353         31\n",
       "24        6  0.031353         31\n",
       "25        1  0.674273         40\n",
       "25        2  0.112379         40\n",
       "25        3  0.084284         40\n",
       "25        4  0.084284         40\n",
       "25        6  0.028095         40\n",
       "28        1  0.260733      53man\n",
       "28        2  0.554057      53man\n",
       "28        3  0.141230      53man\n",
       "28        4  0.010864      53man\n",
       "28        5  0.010864      53man\n",
       "30        1  0.620153    ability\n",
       "...     ...       ...        ...\n",
       "983       3  0.032046         wr\n",
       "983       4  0.016023         wr\n",
       "983       5  0.080114         wr\n",
       "985       1  0.944131      wrote\n",
       "985       2  0.036665      wrote\n",
       "985       3  0.009166      wrote\n",
       "985       4  0.004583      wrote\n",
       "985       6  0.004583      wrote\n",
       "987       1  0.726288      yards\n",
       "987       2  0.239693      yards\n",
       "987       3  0.030637      yards\n",
       "987       4  0.001802      yards\n",
       "987       5  0.001802      yards\n",
       "987       6  0.001802      yards\n",
       "991       1  0.741303       year\n",
       "991       2  0.201542       year\n",
       "991       3  0.032432       year\n",
       "991       4  0.018533       year\n",
       "991       5  0.002317       year\n",
       "991       6  0.002317       year\n",
       "992       1  0.826787      years\n",
       "992       2  0.092354      years\n",
       "992       3  0.039580      years\n",
       "992       4  0.026387      years\n",
       "992       5  0.004398      years\n",
       "992       6  0.008796      years\n",
       "994       1  0.849430  yesterday\n",
       "994       2  0.060674  yesterday\n",
       "994       3  0.030337  yesterday\n",
       "994       4  0.030337  yesterday\n",
       "\n",
       "[1806 rows x 3 columns], R=30, lambda_step=0.01, plot_opts={'xlab': 'PC1', 'ylab': 'PC2'}, topic_order=[10, 3, 8, 6, 4, 5, 9, 1, 7, 2])"
      ]
     },
     "execution_count": 20,
     "metadata": {},
     "output_type": "execute_result"
    }
   ],
   "source": [
    "pyLDAvis.sklearn.prepare(lda, tf, tf_vectorizer)"
   ]
  },
  {
   "cell_type": "code",
   "execution_count": null,
   "metadata": {
    "collapsed": true
   },
   "outputs": [],
   "source": []
  },
  {
   "cell_type": "code",
   "execution_count": null,
   "metadata": {
    "collapsed": true
   },
   "outputs": [],
   "source": []
  },
  {
   "cell_type": "code",
   "execution_count": null,
   "metadata": {
    "collapsed": true
   },
   "outputs": [],
   "source": []
  },
  {
   "cell_type": "code",
   "execution_count": null,
   "metadata": {
    "collapsed": true
   },
   "outputs": [],
   "source": []
  }
 ],
 "metadata": {
  "kernelspec": {
   "display_name": "NFL-Topics",
   "language": "python",
   "name": "nfl-topics"
  },
  "language_info": {
   "codemirror_mode": {
    "name": "ipython",
    "version": 3
   },
   "file_extension": ".py",
   "mimetype": "text/x-python",
   "name": "python",
   "nbconvert_exporter": "python",
   "pygments_lexer": "ipython3",
   "version": "3.6.1"
  }
 },
 "nbformat": 4,
 "nbformat_minor": 2
}
